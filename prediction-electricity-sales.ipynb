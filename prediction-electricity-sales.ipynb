{
 "cells": [
  {
   "cell_type": "code",
   "execution_count": 1,
   "metadata": {},
   "outputs": [],
   "source": [
    "import pandas as pd\n",
    "import numpy as np\n",
    "import matplotlib.pyplot as plt"
   ]
  },
  {
   "cell_type": "markdown",
   "metadata": {},
   "source": [
    "## description of the rows\n",
    "\n",
    "* DateTime: String, defines date and time of sample\n",
    "* Holiday: String, gives name of holiday if day is a bank holiday\n",
    "* HolidayFlag: integer, 1 if day is a bank holiday, zero otherwise\n",
    "* DayOfWeek: integer (0-6), 0 monday, day of week\n",
    "* WeekOfYear: integer, running week within year of this date\n",
    "* Day integer: day of the date\n",
    "* Month integer: month of the date\n",
    "* Year: integer year of the date\n",
    "* PeriodOfDay: integer denotes half hour period of day (0-47)\n",
    "* ForecastWindProduction: the forecasted wind production for this period\n",
    "* SystemLoadEA: the national load forecast for this period\n",
    "* SMPEA: the price forecast for this period\n",
    "* ORKTemperature: the actual temperature measured at Cork airport\n",
    "* ORKWindspeed: the actual windspeed measured at Cork airport\n",
    "* CO2Intensity: the actual CO2 intensity in (g/kWh) for the electricity produced\n",
    "* ActualWindProduction: the actual wind energy production for this period\n",
    "* SystemLoadEP2: the actual national system load for this period\n",
    "* SMPEP2: the actual price of this time period, the value to be forecasted.\n"
   ]
  },
  {
   "cell_type": "code",
   "execution_count": 2,
   "metadata": {},
   "outputs": [
    {
     "name": "stderr",
     "output_type": "stream",
     "text": [
      "E:\\new\\new_one\\env\\lib\\site-packages\\IPython\\core\\interactiveshell.py:3146: DtypeWarning: Columns (9,10,11,14,15,16,17) have mixed types.Specify dtype option on import or set low_memory=False.\n",
      "  has_raised = await self.run_ast_nodes(code_ast.body, cell_name,\n"
     ]
    }
   ],
   "source": [
    "data = pd.read_csv(\"E:/new/new_one/electricity_prices.csv\")"
   ]
  },
  {
   "cell_type": "code",
   "execution_count": 3,
   "metadata": {
    "scrolled": true
   },
   "outputs": [
    {
     "data": {
      "text/html": [
       "<div>\n",
       "<style scoped>\n",
       "    .dataframe tbody tr th:only-of-type {\n",
       "        vertical-align: middle;\n",
       "    }\n",
       "\n",
       "    .dataframe tbody tr th {\n",
       "        vertical-align: top;\n",
       "    }\n",
       "\n",
       "    .dataframe thead th {\n",
       "        text-align: right;\n",
       "    }\n",
       "</style>\n",
       "<table border=\"1\" class=\"dataframe\">\n",
       "  <thead>\n",
       "    <tr style=\"text-align: right;\">\n",
       "      <th></th>\n",
       "      <th>DateTime</th>\n",
       "      <th>Holiday</th>\n",
       "      <th>HolidayFlag</th>\n",
       "      <th>DayOfWeek</th>\n",
       "      <th>WeekOfYear</th>\n",
       "      <th>Day</th>\n",
       "      <th>Month</th>\n",
       "      <th>Year</th>\n",
       "      <th>PeriodOfDay</th>\n",
       "      <th>ForecastWindProduction</th>\n",
       "      <th>SystemLoadEA</th>\n",
       "      <th>SMPEA</th>\n",
       "      <th>ORKTemperature</th>\n",
       "      <th>ORKWindspeed</th>\n",
       "      <th>CO2Intensity</th>\n",
       "      <th>ActualWindProduction</th>\n",
       "      <th>SystemLoadEP2</th>\n",
       "      <th>SMPEP2</th>\n",
       "    </tr>\n",
       "  </thead>\n",
       "  <tbody>\n",
       "    <tr>\n",
       "      <th>0</th>\n",
       "      <td>01/11/2011 00:00</td>\n",
       "      <td>None</td>\n",
       "      <td>0</td>\n",
       "      <td>1</td>\n",
       "      <td>44</td>\n",
       "      <td>1</td>\n",
       "      <td>11</td>\n",
       "      <td>2011</td>\n",
       "      <td>0</td>\n",
       "      <td>315.31</td>\n",
       "      <td>3388.77</td>\n",
       "      <td>49.26</td>\n",
       "      <td>6.00</td>\n",
       "      <td>9.30</td>\n",
       "      <td>600.71</td>\n",
       "      <td>356.00</td>\n",
       "      <td>3159.60</td>\n",
       "      <td>54.32</td>\n",
       "    </tr>\n",
       "    <tr>\n",
       "      <th>1</th>\n",
       "      <td>01/11/2011 00:30</td>\n",
       "      <td>None</td>\n",
       "      <td>0</td>\n",
       "      <td>1</td>\n",
       "      <td>44</td>\n",
       "      <td>1</td>\n",
       "      <td>11</td>\n",
       "      <td>2011</td>\n",
       "      <td>1</td>\n",
       "      <td>321.80</td>\n",
       "      <td>3196.66</td>\n",
       "      <td>49.26</td>\n",
       "      <td>6.00</td>\n",
       "      <td>11.10</td>\n",
       "      <td>605.42</td>\n",
       "      <td>317.00</td>\n",
       "      <td>2973.01</td>\n",
       "      <td>54.23</td>\n",
       "    </tr>\n",
       "    <tr>\n",
       "      <th>2</th>\n",
       "      <td>01/11/2011 01:00</td>\n",
       "      <td>None</td>\n",
       "      <td>0</td>\n",
       "      <td>1</td>\n",
       "      <td>44</td>\n",
       "      <td>1</td>\n",
       "      <td>11</td>\n",
       "      <td>2011</td>\n",
       "      <td>2</td>\n",
       "      <td>328.57</td>\n",
       "      <td>3060.71</td>\n",
       "      <td>49.10</td>\n",
       "      <td>5.00</td>\n",
       "      <td>11.10</td>\n",
       "      <td>589.97</td>\n",
       "      <td>311.00</td>\n",
       "      <td>2834.00</td>\n",
       "      <td>54.23</td>\n",
       "    </tr>\n",
       "    <tr>\n",
       "      <th>3</th>\n",
       "      <td>01/11/2011 01:30</td>\n",
       "      <td>None</td>\n",
       "      <td>0</td>\n",
       "      <td>1</td>\n",
       "      <td>44</td>\n",
       "      <td>1</td>\n",
       "      <td>11</td>\n",
       "      <td>2011</td>\n",
       "      <td>3</td>\n",
       "      <td>335.60</td>\n",
       "      <td>2945.56</td>\n",
       "      <td>48.04</td>\n",
       "      <td>6.00</td>\n",
       "      <td>9.30</td>\n",
       "      <td>585.94</td>\n",
       "      <td>313.00</td>\n",
       "      <td>2725.99</td>\n",
       "      <td>53.47</td>\n",
       "    </tr>\n",
       "    <tr>\n",
       "      <th>4</th>\n",
       "      <td>01/11/2011 02:00</td>\n",
       "      <td>None</td>\n",
       "      <td>0</td>\n",
       "      <td>1</td>\n",
       "      <td>44</td>\n",
       "      <td>1</td>\n",
       "      <td>11</td>\n",
       "      <td>2011</td>\n",
       "      <td>4</td>\n",
       "      <td>342.90</td>\n",
       "      <td>2849.34</td>\n",
       "      <td>33.75</td>\n",
       "      <td>6.00</td>\n",
       "      <td>11.10</td>\n",
       "      <td>571.52</td>\n",
       "      <td>346.00</td>\n",
       "      <td>2655.64</td>\n",
       "      <td>39.87</td>\n",
       "    </tr>\n",
       "  </tbody>\n",
       "</table>\n",
       "</div>"
      ],
      "text/plain": [
       "           DateTime Holiday  HolidayFlag  DayOfWeek  WeekOfYear  Day  Month  \\\n",
       "0  01/11/2011 00:00    None            0          1          44    1     11   \n",
       "1  01/11/2011 00:30    None            0          1          44    1     11   \n",
       "2  01/11/2011 01:00    None            0          1          44    1     11   \n",
       "3  01/11/2011 01:30    None            0          1          44    1     11   \n",
       "4  01/11/2011 02:00    None            0          1          44    1     11   \n",
       "\n",
       "   Year  PeriodOfDay ForecastWindProduction SystemLoadEA  SMPEA  \\\n",
       "0  2011            0                 315.31      3388.77  49.26   \n",
       "1  2011            1                 321.80      3196.66  49.26   \n",
       "2  2011            2                 328.57      3060.71  49.10   \n",
       "3  2011            3                 335.60      2945.56  48.04   \n",
       "4  2011            4                 342.90      2849.34  33.75   \n",
       "\n",
       "  ORKTemperature ORKWindspeed CO2Intensity ActualWindProduction SystemLoadEP2  \\\n",
       "0           6.00         9.30       600.71               356.00       3159.60   \n",
       "1           6.00        11.10       605.42               317.00       2973.01   \n",
       "2           5.00        11.10       589.97               311.00       2834.00   \n",
       "3           6.00         9.30       585.94               313.00       2725.99   \n",
       "4           6.00        11.10       571.52               346.00       2655.64   \n",
       "\n",
       "  SMPEP2  \n",
       "0  54.32  \n",
       "1  54.23  \n",
       "2  54.23  \n",
       "3  53.47  \n",
       "4  39.87  "
      ]
     },
     "execution_count": 3,
     "metadata": {},
     "output_type": "execute_result"
    }
   ],
   "source": [
    "data.head()"
   ]
  },
  {
   "cell_type": "code",
   "execution_count": 4,
   "metadata": {},
   "outputs": [
    {
     "data": {
      "text/plain": [
       "38014"
      ]
     },
     "execution_count": 4,
     "metadata": {},
     "output_type": "execute_result"
    }
   ],
   "source": [
    "len(data)"
   ]
  },
  {
   "cell_type": "code",
   "execution_count": 5,
   "metadata": {},
   "outputs": [],
   "source": [
    "#create a function to view the data\n",
    "\n",
    "def Missing_values(data):\n",
    "    # create list\n",
    "    variable_name =[]\n",
    "    total_value = []\n",
    "    total_missing_value = []\n",
    "    missing_value_rate =[]\n",
    "    unique_value_list = []\n",
    "    total_unique_value =[]\n",
    "    data_type = []\n",
    "    \n",
    "    for col in data.columns:\n",
    "        variable_name.append(col)\n",
    "        data_type.append(data[col].dtype)\n",
    "        total_value.append(data[col].shape[0])\n",
    "        total_missing_value.append(data[col].isnull().sum())\n",
    "        missing_value_rate.append(round(data[col].isnull().sum()/data[col].shape[0], 3))\n",
    "        unique_value_list.append(data[col].unique())\n",
    "        total_unique_value.append(len(data[col].unique()))\n",
    "    missing_data = pd.DataFrame({'variable': variable_name,\n",
    "                                'total value': total_value,\n",
    "                                'total missing value': total_missing_value,\n",
    "                                'missing_value_rate': missing_value_rate,\n",
    "                                'unique_value_list': unique_value_list,\n",
    "                                'total_unique_value': total_unique_value,\n",
    "                                'data_type': data_type})\n",
    "    return missing_data.sort_values('missing_value_rate', ascending=False)"
   ]
  },
  {
   "cell_type": "code",
   "execution_count": 6,
   "metadata": {},
   "outputs": [
    {
     "data": {
      "text/html": [
       "<div>\n",
       "<style scoped>\n",
       "    .dataframe tbody tr th:only-of-type {\n",
       "        vertical-align: middle;\n",
       "    }\n",
       "\n",
       "    .dataframe tbody tr th {\n",
       "        vertical-align: top;\n",
       "    }\n",
       "\n",
       "    .dataframe thead th {\n",
       "        text-align: right;\n",
       "    }\n",
       "</style>\n",
       "<table border=\"1\" class=\"dataframe\">\n",
       "  <thead>\n",
       "    <tr style=\"text-align: right;\">\n",
       "      <th></th>\n",
       "      <th>variable</th>\n",
       "      <th>total value</th>\n",
       "      <th>total missing value</th>\n",
       "      <th>missing_value_rate</th>\n",
       "      <th>unique_value_list</th>\n",
       "      <th>total_unique_value</th>\n",
       "      <th>data_type</th>\n",
       "    </tr>\n",
       "  </thead>\n",
       "  <tbody>\n",
       "    <tr>\n",
       "      <th>0</th>\n",
       "      <td>DateTime</td>\n",
       "      <td>38014</td>\n",
       "      <td>0</td>\n",
       "      <td>0.0</td>\n",
       "      <td>[01/11/2011 00:00, 01/11/2011 00:30, 01/11/201...</td>\n",
       "      <td>38014</td>\n",
       "      <td>object</td>\n",
       "    </tr>\n",
       "    <tr>\n",
       "      <th>1</th>\n",
       "      <td>Holiday</td>\n",
       "      <td>38014</td>\n",
       "      <td>0</td>\n",
       "      <td>0.0</td>\n",
       "      <td>[None, Christmas Eve, Christmas, St Stephen's ...</td>\n",
       "      <td>15</td>\n",
       "      <td>object</td>\n",
       "    </tr>\n",
       "    <tr>\n",
       "      <th>16</th>\n",
       "      <td>SystemLoadEP2</td>\n",
       "      <td>38014</td>\n",
       "      <td>0</td>\n",
       "      <td>0.0</td>\n",
       "      <td>[3159.60, 2973.01, 2834.00, 2725.99, 2655.64, ...</td>\n",
       "      <td>36171</td>\n",
       "      <td>object</td>\n",
       "    </tr>\n",
       "    <tr>\n",
       "      <th>15</th>\n",
       "      <td>ActualWindProduction</td>\n",
       "      <td>38014</td>\n",
       "      <td>0</td>\n",
       "      <td>0.0</td>\n",
       "      <td>[356.00, 317.00, 311.00, 313.00, 346.00, 342.0...</td>\n",
       "      <td>2940</td>\n",
       "      <td>object</td>\n",
       "    </tr>\n",
       "    <tr>\n",
       "      <th>14</th>\n",
       "      <td>CO2Intensity</td>\n",
       "      <td>38014</td>\n",
       "      <td>0</td>\n",
       "      <td>0.0</td>\n",
       "      <td>[600.71, 605.42, 589.97, 585.94, 571.52, 562.6...</td>\n",
       "      <td>25115</td>\n",
       "      <td>object</td>\n",
       "    </tr>\n",
       "    <tr>\n",
       "      <th>13</th>\n",
       "      <td>ORKWindspeed</td>\n",
       "      <td>38014</td>\n",
       "      <td>0</td>\n",
       "      <td>0.0</td>\n",
       "      <td>[9.30, 11.10, 7.40, 5.60, 3.70, ?, 13.00, 22.2...</td>\n",
       "      <td>53</td>\n",
       "      <td>object</td>\n",
       "    </tr>\n",
       "    <tr>\n",
       "      <th>12</th>\n",
       "      <td>ORKTemperature</td>\n",
       "      <td>38014</td>\n",
       "      <td>0</td>\n",
       "      <td>0.0</td>\n",
       "      <td>[6.00, 5.00, 4.00, 8.00, 9.00, ?, 11.00, 12.00...</td>\n",
       "      <td>32</td>\n",
       "      <td>object</td>\n",
       "    </tr>\n",
       "    <tr>\n",
       "      <th>11</th>\n",
       "      <td>SMPEA</td>\n",
       "      <td>38014</td>\n",
       "      <td>0</td>\n",
       "      <td>0.0</td>\n",
       "      <td>[49.26, 49.10, 48.04, 33.75, 47.42, 44.31, 45....</td>\n",
       "      <td>8661</td>\n",
       "      <td>object</td>\n",
       "    </tr>\n",
       "    <tr>\n",
       "      <th>10</th>\n",
       "      <td>SystemLoadEA</td>\n",
       "      <td>38014</td>\n",
       "      <td>0</td>\n",
       "      <td>0.0</td>\n",
       "      <td>[3388.77, 3196.66, 3060.71, 2945.56, 2849.34, ...</td>\n",
       "      <td>36166</td>\n",
       "      <td>object</td>\n",
       "    </tr>\n",
       "    <tr>\n",
       "      <th>9</th>\n",
       "      <td>ForecastWindProduction</td>\n",
       "      <td>38014</td>\n",
       "      <td>0</td>\n",
       "      <td>0.0</td>\n",
       "      <td>[315.31, 321.80, 328.57, 335.60, 342.90, 342.9...</td>\n",
       "      <td>29312</td>\n",
       "      <td>object</td>\n",
       "    </tr>\n",
       "    <tr>\n",
       "      <th>8</th>\n",
       "      <td>PeriodOfDay</td>\n",
       "      <td>38014</td>\n",
       "      <td>0</td>\n",
       "      <td>0.0</td>\n",
       "      <td>[0, 1, 2, 3, 4, 5, 6, 7, 8, 9, 10, 11, 12, 13,...</td>\n",
       "      <td>48</td>\n",
       "      <td>int64</td>\n",
       "    </tr>\n",
       "    <tr>\n",
       "      <th>7</th>\n",
       "      <td>Year</td>\n",
       "      <td>38014</td>\n",
       "      <td>0</td>\n",
       "      <td>0.0</td>\n",
       "      <td>[2011, 2012, 2013]</td>\n",
       "      <td>3</td>\n",
       "      <td>int64</td>\n",
       "    </tr>\n",
       "    <tr>\n",
       "      <th>6</th>\n",
       "      <td>Month</td>\n",
       "      <td>38014</td>\n",
       "      <td>0</td>\n",
       "      <td>0.0</td>\n",
       "      <td>[11, 12, 1, 2, 3, 4, 5, 6, 7, 8, 9, 10]</td>\n",
       "      <td>12</td>\n",
       "      <td>int64</td>\n",
       "    </tr>\n",
       "    <tr>\n",
       "      <th>5</th>\n",
       "      <td>Day</td>\n",
       "      <td>38014</td>\n",
       "      <td>0</td>\n",
       "      <td>0.0</td>\n",
       "      <td>[1, 2, 3, 4, 5, 6, 7, 8, 9, 10, 11, 12, 13, 14...</td>\n",
       "      <td>31</td>\n",
       "      <td>int64</td>\n",
       "    </tr>\n",
       "    <tr>\n",
       "      <th>4</th>\n",
       "      <td>WeekOfYear</td>\n",
       "      <td>38014</td>\n",
       "      <td>0</td>\n",
       "      <td>0.0</td>\n",
       "      <td>[44, 45, 46, 47, 48, 49, 50, 51, 52, 1, 2, 3, ...</td>\n",
       "      <td>52</td>\n",
       "      <td>int64</td>\n",
       "    </tr>\n",
       "    <tr>\n",
       "      <th>3</th>\n",
       "      <td>DayOfWeek</td>\n",
       "      <td>38014</td>\n",
       "      <td>0</td>\n",
       "      <td>0.0</td>\n",
       "      <td>[1, 2, 3, 4, 5, 6, 0]</td>\n",
       "      <td>7</td>\n",
       "      <td>int64</td>\n",
       "    </tr>\n",
       "    <tr>\n",
       "      <th>2</th>\n",
       "      <td>HolidayFlag</td>\n",
       "      <td>38014</td>\n",
       "      <td>0</td>\n",
       "      <td>0.0</td>\n",
       "      <td>[0, 1]</td>\n",
       "      <td>2</td>\n",
       "      <td>int64</td>\n",
       "    </tr>\n",
       "    <tr>\n",
       "      <th>17</th>\n",
       "      <td>SMPEP2</td>\n",
       "      <td>38014</td>\n",
       "      <td>0</td>\n",
       "      <td>0.0</td>\n",
       "      <td>[54.32, 54.23, 53.47, 39.87, 51.45, 52.82, 53....</td>\n",
       "      <td>9277</td>\n",
       "      <td>object</td>\n",
       "    </tr>\n",
       "  </tbody>\n",
       "</table>\n",
       "</div>"
      ],
      "text/plain": [
       "                  variable  total value  total missing value  \\\n",
       "0                 DateTime        38014                    0   \n",
       "1                  Holiday        38014                    0   \n",
       "16           SystemLoadEP2        38014                    0   \n",
       "15    ActualWindProduction        38014                    0   \n",
       "14            CO2Intensity        38014                    0   \n",
       "13            ORKWindspeed        38014                    0   \n",
       "12          ORKTemperature        38014                    0   \n",
       "11                   SMPEA        38014                    0   \n",
       "10            SystemLoadEA        38014                    0   \n",
       "9   ForecastWindProduction        38014                    0   \n",
       "8              PeriodOfDay        38014                    0   \n",
       "7                     Year        38014                    0   \n",
       "6                    Month        38014                    0   \n",
       "5                      Day        38014                    0   \n",
       "4               WeekOfYear        38014                    0   \n",
       "3                DayOfWeek        38014                    0   \n",
       "2              HolidayFlag        38014                    0   \n",
       "17                  SMPEP2        38014                    0   \n",
       "\n",
       "    missing_value_rate                                  unique_value_list  \\\n",
       "0                  0.0  [01/11/2011 00:00, 01/11/2011 00:30, 01/11/201...   \n",
       "1                  0.0  [None, Christmas Eve, Christmas, St Stephen's ...   \n",
       "16                 0.0  [3159.60, 2973.01, 2834.00, 2725.99, 2655.64, ...   \n",
       "15                 0.0  [356.00, 317.00, 311.00, 313.00, 346.00, 342.0...   \n",
       "14                 0.0  [600.71, 605.42, 589.97, 585.94, 571.52, 562.6...   \n",
       "13                 0.0  [9.30, 11.10, 7.40, 5.60, 3.70, ?, 13.00, 22.2...   \n",
       "12                 0.0  [6.00, 5.00, 4.00, 8.00, 9.00, ?, 11.00, 12.00...   \n",
       "11                 0.0  [49.26, 49.10, 48.04, 33.75, 47.42, 44.31, 45....   \n",
       "10                 0.0  [3388.77, 3196.66, 3060.71, 2945.56, 2849.34, ...   \n",
       "9                  0.0  [315.31, 321.80, 328.57, 335.60, 342.90, 342.9...   \n",
       "8                  0.0  [0, 1, 2, 3, 4, 5, 6, 7, 8, 9, 10, 11, 12, 13,...   \n",
       "7                  0.0                                 [2011, 2012, 2013]   \n",
       "6                  0.0            [11, 12, 1, 2, 3, 4, 5, 6, 7, 8, 9, 10]   \n",
       "5                  0.0  [1, 2, 3, 4, 5, 6, 7, 8, 9, 10, 11, 12, 13, 14...   \n",
       "4                  0.0  [44, 45, 46, 47, 48, 49, 50, 51, 52, 1, 2, 3, ...   \n",
       "3                  0.0                              [1, 2, 3, 4, 5, 6, 0]   \n",
       "2                  0.0                                             [0, 1]   \n",
       "17                 0.0  [54.32, 54.23, 53.47, 39.87, 51.45, 52.82, 53....   \n",
       "\n",
       "    total_unique_value data_type  \n",
       "0                38014    object  \n",
       "1                   15    object  \n",
       "16               36171    object  \n",
       "15                2940    object  \n",
       "14               25115    object  \n",
       "13                  53    object  \n",
       "12                  32    object  \n",
       "11                8661    object  \n",
       "10               36166    object  \n",
       "9                29312    object  \n",
       "8                   48     int64  \n",
       "7                    3     int64  \n",
       "6                   12     int64  \n",
       "5                   31     int64  \n",
       "4                   52     int64  \n",
       "3                    7     int64  \n",
       "2                    2     int64  \n",
       "17                9277    object  "
      ]
     },
     "execution_count": 6,
     "metadata": {},
     "output_type": "execute_result"
    }
   ],
   "source": [
    "Missing_values(data)"
   ]
  },
  {
   "cell_type": "code",
   "execution_count": 7,
   "metadata": {},
   "outputs": [
    {
     "data": {
      "text/plain": [
       "array(['None', 'Christmas Eve', 'Christmas', \"St Stephen's Day\",\n",
       "       \"New Year's Eve\", \"New Year's Day\", \"St Patrick's Day\",\n",
       "       'Good Friday', 'Holy Saturday', 'Easter', 'Easter Monday',\n",
       "       'May Day', 'June Bank Holiday', 'August Bank Holiday',\n",
       "       'October Bank Holiday'], dtype=object)"
      ]
     },
     "execution_count": 7,
     "metadata": {},
     "output_type": "execute_result"
    }
   ],
   "source": [
    "# see the unique value\n",
    "data['Holiday'].unique()"
   ]
  },
  {
   "cell_type": "code",
   "execution_count": 8,
   "metadata": {},
   "outputs": [
    {
     "data": {
      "text/plain": [
       "array([0, 1], dtype=int64)"
      ]
     },
     "execution_count": 8,
     "metadata": {},
     "output_type": "execute_result"
    }
   ],
   "source": [
    "data['HolidayFlag'].unique()"
   ]
  },
  {
   "cell_type": "code",
   "execution_count": 9,
   "metadata": {},
   "outputs": [
    {
     "data": {
      "text/plain": [
       "<AxesSubplot:xlabel='Holiday'>"
      ]
     },
     "execution_count": 9,
     "metadata": {},
     "output_type": "execute_result"
    },
    {
     "data": {
      "image/png": "[encoded data removed]",
      "text/plain": [
       "<Figure size 432x288 with 1 Axes>"
      ]
     },
     "metadata": {
      "needs_background": "light"
     },
     "output_type": "display_data"
    }
   ],
   "source": [
    "data.value_counts(['Holiday']).plot(kind='bar')"
   ]
  },
  {
   "cell_type": "code",
   "execution_count": 10,
   "metadata": {},
   "outputs": [
    {
     "data": {
      "text/plain": [
       "HolidayFlag\n",
       "0              36478\n",
       "1               1536\n",
       "dtype: int64"
      ]
     },
     "execution_count": 10,
     "metadata": {},
     "output_type": "execute_result"
    }
   ],
   "source": [
    "data.value_counts(['HolidayFlag'])"
   ]
  },
  {
   "cell_type": "code",
   "execution_count": 11,
   "metadata": {},
   "outputs": [
    {
     "data": {
      "text/plain": [
       "<AxesSubplot:xlabel='HolidayFlag'>"
      ]
     },
     "execution_count": 11,
     "metadata": {},
     "output_type": "execute_result"
    },
    {
     "data": {
      "image/png": "[encoded data removed]",
      "text/plain": [
       "<Figure size 432x288 with 1 Axes>"
      ]
     },
     "metadata": {
      "needs_background": "light"
     },
     "output_type": "display_data"
    }
   ],
   "source": [
    "data.value_counts(['HolidayFlag']).plot(kind='bar', color=['red', 'blue'])"
   ]
  },
  {
   "cell_type": "code",
   "execution_count": 12,
   "metadata": {},
   "outputs": [
    {
     "data": {
      "text/plain": [
       "<AxesSubplot:xlabel='PeriodOfDay'>"
      ]
     },
     "execution_count": 12,
     "metadata": {},
     "output_type": "execute_result"
    },
    {
     "data": {
      "image/png": "[encoded data removed]",
      "text/plain": [
       "<Figure size 864x432 with 1 Axes>"
      ]
     },
     "metadata": {
      "needs_background": "light"
     },
     "output_type": "display_data"
    }
   ],
   "source": [
    "data.value_counts(['PeriodOfDay']).plot(kind='bar', figsize=(12, 6))"
   ]
  },
  {
   "cell_type": "code",
   "execution_count": 13,
   "metadata": {},
   "outputs": [],
   "source": [
    "def_tmp = data.copy()"
   ]
  },
  {
   "cell_type": "code",
   "execution_count": 14,
   "metadata": {},
   "outputs": [
    {
     "name": "stdout",
     "output_type": "stream",
     "text": [
      "DateTime\n",
      "Holiday\n",
      "ForecastWindProduction\n",
      "SystemLoadEA\n",
      "SMPEA\n",
      "ORKTemperature\n",
      "ORKWindspeed\n",
      "CO2Intensity\n",
      "ActualWindProduction\n",
      "SystemLoadEP2\n",
      "SMPEP2\n"
     ]
    }
   ],
   "source": [
    "# These columns contain strings\n",
    "for label, content in def_tmp.items():\n",
    "    if pd.api.types.is_string_dtype(content):\n",
    "        print(label)"
   ]
  },
  {
   "cell_type": "code",
   "execution_count": 15,
   "metadata": {},
   "outputs": [],
   "source": [
    "# This will turn all of the string values into category values\n",
    "for label, content in def_tmp.items():\n",
    "    if pd.api.types.is_string_dtype(content):\n",
    "        def_tmp[label] = content.astype(\"category\").cat.as_ordered()"
   ]
  },
  {
   "cell_type": "code",
   "execution_count": 16,
   "metadata": {},
   "outputs": [],
   "source": [
    "# This will turn all of the string values into category values\n",
    "for label, content in def_tmp.items():\n",
    "    if pd.api.types.is_string_dtype(content):\n",
    "        def_tmp[label] = content.astype(\"category\").cat.as_ordered()"
   ]
  },
  {
   "cell_type": "code",
   "execution_count": 17,
   "metadata": {},
   "outputs": [
    {
     "data": {
      "text/html": [
       "<div>\n",
       "<style scoped>\n",
       "    .dataframe tbody tr th:only-of-type {\n",
       "        vertical-align: middle;\n",
       "    }\n",
       "\n",
       "    .dataframe tbody tr th {\n",
       "        vertical-align: top;\n",
       "    }\n",
       "\n",
       "    .dataframe thead th {\n",
       "        text-align: right;\n",
       "    }\n",
       "</style>\n",
       "<table border=\"1\" class=\"dataframe\">\n",
       "  <thead>\n",
       "    <tr style=\"text-align: right;\">\n",
       "      <th></th>\n",
       "      <th>variable</th>\n",
       "      <th>total value</th>\n",
       "      <th>total missing value</th>\n",
       "      <th>missing_value_rate</th>\n",
       "      <th>unique_value_list</th>\n",
       "      <th>total_unique_value</th>\n",
       "      <th>data_type</th>\n",
       "    </tr>\n",
       "  </thead>\n",
       "  <tbody>\n",
       "    <tr>\n",
       "      <th>0</th>\n",
       "      <td>DateTime</td>\n",
       "      <td>38014</td>\n",
       "      <td>0</td>\n",
       "      <td>0.0</td>\n",
       "      <td>['01/11/2011 00:00', '01/11/2011 00:30', '01/1...</td>\n",
       "      <td>38014</td>\n",
       "      <td>category</td>\n",
       "    </tr>\n",
       "    <tr>\n",
       "      <th>1</th>\n",
       "      <td>Holiday</td>\n",
       "      <td>38014</td>\n",
       "      <td>0</td>\n",
       "      <td>0.0</td>\n",
       "      <td>['None', 'Christmas Eve', 'Christmas', 'St Ste...</td>\n",
       "      <td>15</td>\n",
       "      <td>category</td>\n",
       "    </tr>\n",
       "    <tr>\n",
       "      <th>16</th>\n",
       "      <td>SystemLoadEP2</td>\n",
       "      <td>38014</td>\n",
       "      <td>0</td>\n",
       "      <td>0.0</td>\n",
       "      <td>['3159.60', '2973.01', '2834.00', '2725.99', '...</td>\n",
       "      <td>36171</td>\n",
       "      <td>category</td>\n",
       "    </tr>\n",
       "    <tr>\n",
       "      <th>15</th>\n",
       "      <td>ActualWindProduction</td>\n",
       "      <td>38014</td>\n",
       "      <td>0</td>\n",
       "      <td>0.0</td>\n",
       "      <td>['356.00', '317.00', '311.00', '313.00', '346....</td>\n",
       "      <td>2940</td>\n",
       "      <td>category</td>\n",
       "    </tr>\n",
       "    <tr>\n",
       "      <th>14</th>\n",
       "      <td>CO2Intensity</td>\n",
       "      <td>38014</td>\n",
       "      <td>0</td>\n",
       "      <td>0.0</td>\n",
       "      <td>['600.71', '605.42', '589.97', '585.94', '571....</td>\n",
       "      <td>25115</td>\n",
       "      <td>category</td>\n",
       "    </tr>\n",
       "    <tr>\n",
       "      <th>13</th>\n",
       "      <td>ORKWindspeed</td>\n",
       "      <td>38014</td>\n",
       "      <td>0</td>\n",
       "      <td>0.0</td>\n",
       "      <td>['9.30', '11.10', '7.40', '5.60', '3.70', ...,...</td>\n",
       "      <td>53</td>\n",
       "      <td>category</td>\n",
       "    </tr>\n",
       "    <tr>\n",
       "      <th>12</th>\n",
       "      <td>ORKTemperature</td>\n",
       "      <td>38014</td>\n",
       "      <td>0</td>\n",
       "      <td>0.0</td>\n",
       "      <td>['6.00', '5.00', '4.00', '8.00', '9.00', ..., ...</td>\n",
       "      <td>32</td>\n",
       "      <td>category</td>\n",
       "    </tr>\n",
       "    <tr>\n",
       "      <th>11</th>\n",
       "      <td>SMPEA</td>\n",
       "      <td>38014</td>\n",
       "      <td>0</td>\n",
       "      <td>0.0</td>\n",
       "      <td>['49.26', '49.10', '48.04', '33.75', '47.42', ...</td>\n",
       "      <td>8661</td>\n",
       "      <td>category</td>\n",
       "    </tr>\n",
       "    <tr>\n",
       "      <th>10</th>\n",
       "      <td>SystemLoadEA</td>\n",
       "      <td>38014</td>\n",
       "      <td>0</td>\n",
       "      <td>0.0</td>\n",
       "      <td>['3388.77', '3196.66', '3060.71', '2945.56', '...</td>\n",
       "      <td>36166</td>\n",
       "      <td>category</td>\n",
       "    </tr>\n",
       "    <tr>\n",
       "      <th>9</th>\n",
       "      <td>ForecastWindProduction</td>\n",
       "      <td>38014</td>\n",
       "      <td>0</td>\n",
       "      <td>0.0</td>\n",
       "      <td>['315.31', '321.80', '328.57', '335.60', '342....</td>\n",
       "      <td>29312</td>\n",
       "      <td>category</td>\n",
       "    </tr>\n",
       "    <tr>\n",
       "      <th>8</th>\n",
       "      <td>PeriodOfDay</td>\n",
       "      <td>38014</td>\n",
       "      <td>0</td>\n",
       "      <td>0.0</td>\n",
       "      <td>[0, 1, 2, 3, 4, 5, 6, 7, 8, 9, 10, 11, 12, 13,...</td>\n",
       "      <td>48</td>\n",
       "      <td>int64</td>\n",
       "    </tr>\n",
       "    <tr>\n",
       "      <th>7</th>\n",
       "      <td>Year</td>\n",
       "      <td>38014</td>\n",
       "      <td>0</td>\n",
       "      <td>0.0</td>\n",
       "      <td>[2011, 2012, 2013]</td>\n",
       "      <td>3</td>\n",
       "      <td>int64</td>\n",
       "    </tr>\n",
       "    <tr>\n",
       "      <th>6</th>\n",
       "      <td>Month</td>\n",
       "      <td>38014</td>\n",
       "      <td>0</td>\n",
       "      <td>0.0</td>\n",
       "      <td>[11, 12, 1, 2, 3, 4, 5, 6, 7, 8, 9, 10]</td>\n",
       "      <td>12</td>\n",
       "      <td>int64</td>\n",
       "    </tr>\n",
       "    <tr>\n",
       "      <th>5</th>\n",
       "      <td>Day</td>\n",
       "      <td>38014</td>\n",
       "      <td>0</td>\n",
       "      <td>0.0</td>\n",
       "      <td>[1, 2, 3, 4, 5, 6, 7, 8, 9, 10, 11, 12, 13, 14...</td>\n",
       "      <td>31</td>\n",
       "      <td>int64</td>\n",
       "    </tr>\n",
       "    <tr>\n",
       "      <th>4</th>\n",
       "      <td>WeekOfYear</td>\n",
       "      <td>38014</td>\n",
       "      <td>0</td>\n",
       "      <td>0.0</td>\n",
       "      <td>[44, 45, 46, 47, 48, 49, 50, 51, 52, 1, 2, 3, ...</td>\n",
       "      <td>52</td>\n",
       "      <td>int64</td>\n",
       "    </tr>\n",
       "    <tr>\n",
       "      <th>3</th>\n",
       "      <td>DayOfWeek</td>\n",
       "      <td>38014</td>\n",
       "      <td>0</td>\n",
       "      <td>0.0</td>\n",
       "      <td>[1, 2, 3, 4, 5, 6, 0]</td>\n",
       "      <td>7</td>\n",
       "      <td>int64</td>\n",
       "    </tr>\n",
       "    <tr>\n",
       "      <th>2</th>\n",
       "      <td>HolidayFlag</td>\n",
       "      <td>38014</td>\n",
       "      <td>0</td>\n",
       "      <td>0.0</td>\n",
       "      <td>[0, 1]</td>\n",
       "      <td>2</td>\n",
       "      <td>int64</td>\n",
       "    </tr>\n",
       "    <tr>\n",
       "      <th>17</th>\n",
       "      <td>SMPEP2</td>\n",
       "      <td>38014</td>\n",
       "      <td>0</td>\n",
       "      <td>0.0</td>\n",
       "      <td>['54.32', '54.23', '53.47', '39.87', '51.45', ...</td>\n",
       "      <td>9277</td>\n",
       "      <td>category</td>\n",
       "    </tr>\n",
       "  </tbody>\n",
       "</table>\n",
       "</div>"
      ],
      "text/plain": [
       "                  variable  total value  total missing value  \\\n",
       "0                 DateTime        38014                    0   \n",
       "1                  Holiday        38014                    0   \n",
       "16           SystemLoadEP2        38014                    0   \n",
       "15    ActualWindProduction        38014                    0   \n",
       "14            CO2Intensity        38014                    0   \n",
       "13            ORKWindspeed        38014                    0   \n",
       "12          ORKTemperature        38014                    0   \n",
       "11                   SMPEA        38014                    0   \n",
       "10            SystemLoadEA        38014                    0   \n",
       "9   ForecastWindProduction        38014                    0   \n",
       "8              PeriodOfDay        38014                    0   \n",
       "7                     Year        38014                    0   \n",
       "6                    Month        38014                    0   \n",
       "5                      Day        38014                    0   \n",
       "4               WeekOfYear        38014                    0   \n",
       "3                DayOfWeek        38014                    0   \n",
       "2              HolidayFlag        38014                    0   \n",
       "17                  SMPEP2        38014                    0   \n",
       "\n",
       "    missing_value_rate                                  unique_value_list  \\\n",
       "0                  0.0  ['01/11/2011 00:00', '01/11/2011 00:30', '01/1...   \n",
       "1                  0.0  ['None', 'Christmas Eve', 'Christmas', 'St Ste...   \n",
       "16                 0.0  ['3159.60', '2973.01', '2834.00', '2725.99', '...   \n",
       "15                 0.0  ['356.00', '317.00', '311.00', '313.00', '346....   \n",
       "14                 0.0  ['600.71', '605.42', '589.97', '585.94', '571....   \n",
       "13                 0.0  ['9.30', '11.10', '7.40', '5.60', '3.70', ...,...   \n",
       "12                 0.0  ['6.00', '5.00', '4.00', '8.00', '9.00', ..., ...   \n",
       "11                 0.0  ['49.26', '49.10', '48.04', '33.75', '47.42', ...   \n",
       "10                 0.0  ['3388.77', '3196.66', '3060.71', '2945.56', '...   \n",
       "9                  0.0  ['315.31', '321.80', '328.57', '335.60', '342....   \n",
       "8                  0.0  [0, 1, 2, 3, 4, 5, 6, 7, 8, 9, 10, 11, 12, 13,...   \n",
       "7                  0.0                                 [2011, 2012, 2013]   \n",
       "6                  0.0            [11, 12, 1, 2, 3, 4, 5, 6, 7, 8, 9, 10]   \n",
       "5                  0.0  [1, 2, 3, 4, 5, 6, 7, 8, 9, 10, 11, 12, 13, 14...   \n",
       "4                  0.0  [44, 45, 46, 47, 48, 49, 50, 51, 52, 1, 2, 3, ...   \n",
       "3                  0.0                              [1, 2, 3, 4, 5, 6, 0]   \n",
       "2                  0.0                                             [0, 1]   \n",
       "17                 0.0  ['54.32', '54.23', '53.47', '39.87', '51.45', ...   \n",
       "\n",
       "    total_unique_value data_type  \n",
       "0                38014  category  \n",
       "1                   15  category  \n",
       "16               36171  category  \n",
       "15                2940  category  \n",
       "14               25115  category  \n",
       "13                  53  category  \n",
       "12                  32  category  \n",
       "11                8661  category  \n",
       "10               36166  category  \n",
       "9                29312  category  \n",
       "8                   48     int64  \n",
       "7                    3     int64  \n",
       "6                   12     int64  \n",
       "5                   31     int64  \n",
       "4                   52     int64  \n",
       "3                    7     int64  \n",
       "2                    2     int64  \n",
       "17                9277  category  "
      ]
     },
     "execution_count": 17,
     "metadata": {},
     "output_type": "execute_result"
    }
   ],
   "source": [
    "Missing_values(def_tmp)"
   ]
  },
  {
   "cell_type": "code",
   "execution_count": 18,
   "metadata": {},
   "outputs": [
    {
     "name": "stdout",
     "output_type": "stream",
     "text": [
      "DateTime\n",
      "Holiday\n",
      "ForecastWindProduction\n",
      "SystemLoadEA\n",
      "SMPEA\n",
      "ORKTemperature\n",
      "ORKWindspeed\n",
      "CO2Intensity\n",
      "ActualWindProduction\n",
      "SystemLoadEP2\n",
      "SMPEP2\n"
     ]
    }
   ],
   "source": [
    "# Check columns which *aren't* numeric\n",
    "for label, content in def_tmp.items():\n",
    "    if not pd.api.types.is_numeric_dtype(content):\n",
    "        print(label)"
   ]
  },
  {
   "cell_type": "code",
   "execution_count": 19,
   "metadata": {},
   "outputs": [],
   "source": [
    "# Turn categorical variables into numbers\n",
    "for label, content in def_tmp.items():\n",
    "    # Check columns which *aren't* numeric\n",
    "    if not pd.api.types.is_numeric_dtype(content):\n",
    "    # We add the +1 because pandas encodes missing categories as -1\n",
    "        def_tmp[label] = pd.Categorical(content).codes+1"
   ]
  },
  {
   "cell_type": "code",
   "execution_count": 20,
   "metadata": {},
   "outputs": [],
   "source": [
    "# Check columns which *aren't* numeric again\n",
    "for label, content in def_tmp.items():\n",
    "    if not pd.api.types.is_numeric_dtype(content):\n",
    "        print(label)"
   ]
  },
  {
   "cell_type": "code",
   "execution_count": 21,
   "metadata": {},
   "outputs": [
    {
     "data": {
      "text/html": [
       "<div>\n",
       "<style scoped>\n",
       "    .dataframe tbody tr th:only-of-type {\n",
       "        vertical-align: middle;\n",
       "    }\n",
       "\n",
       "    .dataframe tbody tr th {\n",
       "        vertical-align: top;\n",
       "    }\n",
       "\n",
       "    .dataframe thead th {\n",
       "        text-align: right;\n",
       "    }\n",
       "</style>\n",
       "<table border=\"1\" class=\"dataframe\">\n",
       "  <thead>\n",
       "    <tr style=\"text-align: right;\">\n",
       "      <th></th>\n",
       "      <th>variable</th>\n",
       "      <th>total value</th>\n",
       "      <th>total missing value</th>\n",
       "      <th>missing_value_rate</th>\n",
       "      <th>unique_value_list</th>\n",
       "      <th>total_unique_value</th>\n",
       "      <th>data_type</th>\n",
       "    </tr>\n",
       "  </thead>\n",
       "  <tbody>\n",
       "    <tr>\n",
       "      <th>0</th>\n",
       "      <td>DateTime</td>\n",
       "      <td>38014</td>\n",
       "      <td>0</td>\n",
       "      <td>0.0</td>\n",
       "      <td>[961, 962, 963, 964, 965, 966, 967, 968, 969, ...</td>\n",
       "      <td>38014</td>\n",
       "      <td>int32</td>\n",
       "    </tr>\n",
       "    <tr>\n",
       "      <th>1</th>\n",
       "      <td>Holiday</td>\n",
       "      <td>38014</td>\n",
       "      <td>0</td>\n",
       "      <td>0.0</td>\n",
       "      <td>[12, 3, 2, 15, 11, 10, 14, 6, 7, 4, 5, 9, 8, 1...</td>\n",
       "      <td>15</td>\n",
       "      <td>int8</td>\n",
       "    </tr>\n",
       "    <tr>\n",
       "      <th>16</th>\n",
       "      <td>SystemLoadEP2</td>\n",
       "      <td>38014</td>\n",
       "      <td>0</td>\n",
       "      <td>0.0</td>\n",
       "      <td>[13871, 12121, 10717, 9608, 8927, 8248, 8012, ...</td>\n",
       "      <td>36171</td>\n",
       "      <td>int32</td>\n",
       "    </tr>\n",
       "    <tr>\n",
       "      <th>15</th>\n",
       "      <td>ActualWindProduction</td>\n",
       "      <td>38014</td>\n",
       "      <td>0</td>\n",
       "      <td>0.0</td>\n",
       "      <td>[2226, 2183, 2177, 2179, 2215, 2211, 2204, 220...</td>\n",
       "      <td>2940</td>\n",
       "      <td>int16</td>\n",
       "    </tr>\n",
       "    <tr>\n",
       "      <th>14</th>\n",
       "      <td>CO2Intensity</td>\n",
       "      <td>38014</td>\n",
       "      <td>0</td>\n",
       "      <td>0.0</td>\n",
       "      <td>[22770, 22981, 22240, 22025, 21164, 20597, 193...</td>\n",
       "      <td>25115</td>\n",
       "      <td>int16</td>\n",
       "    </tr>\n",
       "    <tr>\n",
       "      <th>13</th>\n",
       "      <td>ORKWindspeed</td>\n",
       "      <td>38014</td>\n",
       "      <td>0</td>\n",
       "      <td>0.0</td>\n",
       "      <td>[52, 4, 47, 34, 21, 53, 5, 13, 10, 11, 14, 16,...</td>\n",
       "      <td>53</td>\n",
       "      <td>int8</td>\n",
       "    </tr>\n",
       "    <tr>\n",
       "      <th>12</th>\n",
       "      <td>ORKTemperature</td>\n",
       "      <td>38014</td>\n",
       "      <td>0</td>\n",
       "      <td>0.0</td>\n",
       "      <td>[28, 27, 26, 30, 31, 32, 9, 10, 11, 8, 29, 25,...</td>\n",
       "      <td>32</td>\n",
       "      <td>int8</td>\n",
       "    </tr>\n",
       "    <tr>\n",
       "      <th>11</th>\n",
       "      <td>SMPEA</td>\n",
       "      <td>38014</td>\n",
       "      <td>0</td>\n",
       "      <td>0.0</td>\n",
       "      <td>[4931, 4915, 4812, 3552, 4745, 4435, 4518, 463...</td>\n",
       "      <td>8661</td>\n",
       "      <td>int16</td>\n",
       "    </tr>\n",
       "    <tr>\n",
       "      <th>10</th>\n",
       "      <td>SystemLoadEA</td>\n",
       "      <td>38014</td>\n",
       "      <td>0</td>\n",
       "      <td>0.0</td>\n",
       "      <td>[13942, 12114, 10721, 9606, 8701, 8385, 8155, ...</td>\n",
       "      <td>36166</td>\n",
       "      <td>int32</td>\n",
       "    </tr>\n",
       "    <tr>\n",
       "      <th>9</th>\n",
       "      <td>ForecastWindProduction</td>\n",
       "      <td>38014</td>\n",
       "      <td>0</td>\n",
       "      <td>0.0</td>\n",
       "      <td>[16208, 16366, 16529, 16706, 16898, 16900, 169...</td>\n",
       "      <td>29312</td>\n",
       "      <td>int16</td>\n",
       "    </tr>\n",
       "    <tr>\n",
       "      <th>8</th>\n",
       "      <td>PeriodOfDay</td>\n",
       "      <td>38014</td>\n",
       "      <td>0</td>\n",
       "      <td>0.0</td>\n",
       "      <td>[0, 1, 2, 3, 4, 5, 6, 7, 8, 9, 10, 11, 12, 13,...</td>\n",
       "      <td>48</td>\n",
       "      <td>int64</td>\n",
       "    </tr>\n",
       "    <tr>\n",
       "      <th>7</th>\n",
       "      <td>Year</td>\n",
       "      <td>38014</td>\n",
       "      <td>0</td>\n",
       "      <td>0.0</td>\n",
       "      <td>[2011, 2012, 2013]</td>\n",
       "      <td>3</td>\n",
       "      <td>int64</td>\n",
       "    </tr>\n",
       "    <tr>\n",
       "      <th>6</th>\n",
       "      <td>Month</td>\n",
       "      <td>38014</td>\n",
       "      <td>0</td>\n",
       "      <td>0.0</td>\n",
       "      <td>[11, 12, 1, 2, 3, 4, 5, 6, 7, 8, 9, 10]</td>\n",
       "      <td>12</td>\n",
       "      <td>int64</td>\n",
       "    </tr>\n",
       "    <tr>\n",
       "      <th>5</th>\n",
       "      <td>Day</td>\n",
       "      <td>38014</td>\n",
       "      <td>0</td>\n",
       "      <td>0.0</td>\n",
       "      <td>[1, 2, 3, 4, 5, 6, 7, 8, 9, 10, 11, 12, 13, 14...</td>\n",
       "      <td>31</td>\n",
       "      <td>int64</td>\n",
       "    </tr>\n",
       "    <tr>\n",
       "      <th>4</th>\n",
       "      <td>WeekOfYear</td>\n",
       "      <td>38014</td>\n",
       "      <td>0</td>\n",
       "      <td>0.0</td>\n",
       "      <td>[44, 45, 46, 47, 48, 49, 50, 51, 52, 1, 2, 3, ...</td>\n",
       "      <td>52</td>\n",
       "      <td>int64</td>\n",
       "    </tr>\n",
       "    <tr>\n",
       "      <th>3</th>\n",
       "      <td>DayOfWeek</td>\n",
       "      <td>38014</td>\n",
       "      <td>0</td>\n",
       "      <td>0.0</td>\n",
       "      <td>[1, 2, 3, 4, 5, 6, 0]</td>\n",
       "      <td>7</td>\n",
       "      <td>int64</td>\n",
       "    </tr>\n",
       "    <tr>\n",
       "      <th>2</th>\n",
       "      <td>HolidayFlag</td>\n",
       "      <td>38014</td>\n",
       "      <td>0</td>\n",
       "      <td>0.0</td>\n",
       "      <td>[0, 1]</td>\n",
       "      <td>2</td>\n",
       "      <td>int64</td>\n",
       "    </tr>\n",
       "    <tr>\n",
       "      <th>17</th>\n",
       "      <td>SMPEP2</td>\n",
       "      <td>38014</td>\n",
       "      <td>0</td>\n",
       "      <td>0.0</td>\n",
       "      <td>[5965, 5956, 5881, 4542, 5681, 5818, 5899, 595...</td>\n",
       "      <td>9277</td>\n",
       "      <td>int16</td>\n",
       "    </tr>\n",
       "  </tbody>\n",
       "</table>\n",
       "</div>"
      ],
      "text/plain": [
       "                  variable  total value  total missing value  \\\n",
       "0                 DateTime        38014                    0   \n",
       "1                  Holiday        38014                    0   \n",
       "16           SystemLoadEP2        38014                    0   \n",
       "15    ActualWindProduction        38014                    0   \n",
       "14            CO2Intensity        38014                    0   \n",
       "13            ORKWindspeed        38014                    0   \n",
       "12          ORKTemperature        38014                    0   \n",
       "11                   SMPEA        38014                    0   \n",
       "10            SystemLoadEA        38014                    0   \n",
       "9   ForecastWindProduction        38014                    0   \n",
       "8              PeriodOfDay        38014                    0   \n",
       "7                     Year        38014                    0   \n",
       "6                    Month        38014                    0   \n",
       "5                      Day        38014                    0   \n",
       "4               WeekOfYear        38014                    0   \n",
       "3                DayOfWeek        38014                    0   \n",
       "2              HolidayFlag        38014                    0   \n",
       "17                  SMPEP2        38014                    0   \n",
       "\n",
       "    missing_value_rate                                  unique_value_list  \\\n",
       "0                  0.0  [961, 962, 963, 964, 965, 966, 967, 968, 969, ...   \n",
       "1                  0.0  [12, 3, 2, 15, 11, 10, 14, 6, 7, 4, 5, 9, 8, 1...   \n",
       "16                 0.0  [13871, 12121, 10717, 9608, 8927, 8248, 8012, ...   \n",
       "15                 0.0  [2226, 2183, 2177, 2179, 2215, 2211, 2204, 220...   \n",
       "14                 0.0  [22770, 22981, 22240, 22025, 21164, 20597, 193...   \n",
       "13                 0.0  [52, 4, 47, 34, 21, 53, 5, 13, 10, 11, 14, 16,...   \n",
       "12                 0.0  [28, 27, 26, 30, 31, 32, 9, 10, 11, 8, 29, 25,...   \n",
       "11                 0.0  [4931, 4915, 4812, 3552, 4745, 4435, 4518, 463...   \n",
       "10                 0.0  [13942, 12114, 10721, 9606, 8701, 8385, 8155, ...   \n",
       "9                  0.0  [16208, 16366, 16529, 16706, 16898, 16900, 169...   \n",
       "8                  0.0  [0, 1, 2, 3, 4, 5, 6, 7, 8, 9, 10, 11, 12, 13,...   \n",
       "7                  0.0                                 [2011, 2012, 2013]   \n",
       "6                  0.0            [11, 12, 1, 2, 3, 4, 5, 6, 7, 8, 9, 10]   \n",
       "5                  0.0  [1, 2, 3, 4, 5, 6, 7, 8, 9, 10, 11, 12, 13, 14...   \n",
       "4                  0.0  [44, 45, 46, 47, 48, 49, 50, 51, 52, 1, 2, 3, ...   \n",
       "3                  0.0                              [1, 2, 3, 4, 5, 6, 0]   \n",
       "2                  0.0                                             [0, 1]   \n",
       "17                 0.0  [5965, 5956, 5881, 4542, 5681, 5818, 5899, 595...   \n",
       "\n",
       "    total_unique_value data_type  \n",
       "0                38014     int32  \n",
       "1                   15      int8  \n",
       "16               36171     int32  \n",
       "15                2940     int16  \n",
       "14               25115     int16  \n",
       "13                  53      int8  \n",
       "12                  32      int8  \n",
       "11                8661     int16  \n",
       "10               36166     int32  \n",
       "9                29312     int16  \n",
       "8                   48     int64  \n",
       "7                    3     int64  \n",
       "6                   12     int64  \n",
       "5                   31     int64  \n",
       "4                   52     int64  \n",
       "3                    7     int64  \n",
       "2                    2     int64  \n",
       "17                9277     int16  "
      ]
     },
     "execution_count": 21,
     "metadata": {},
     "output_type": "execute_result"
    }
   ],
   "source": [
    "Missing_values(def_tmp)"
   ]
  },
  {
   "cell_type": "code",
   "execution_count": 22,
   "metadata": {},
   "outputs": [
    {
     "data": {
      "text/html": [
       "<div>\n",
       "<style scoped>\n",
       "    .dataframe tbody tr th:only-of-type {\n",
       "        vertical-align: middle;\n",
       "    }\n",
       "\n",
       "    .dataframe tbody tr th {\n",
       "        vertical-align: top;\n",
       "    }\n",
       "\n",
       "    .dataframe thead th {\n",
       "        text-align: right;\n",
       "    }\n",
       "</style>\n",
       "<table border=\"1\" class=\"dataframe\">\n",
       "  <thead>\n",
       "    <tr style=\"text-align: right;\">\n",
       "      <th></th>\n",
       "      <th>DateTime</th>\n",
       "      <th>Holiday</th>\n",
       "      <th>HolidayFlag</th>\n",
       "      <th>DayOfWeek</th>\n",
       "      <th>WeekOfYear</th>\n",
       "      <th>Day</th>\n",
       "      <th>Month</th>\n",
       "      <th>Year</th>\n",
       "      <th>PeriodOfDay</th>\n",
       "      <th>ForecastWindProduction</th>\n",
       "      <th>SystemLoadEA</th>\n",
       "      <th>SMPEA</th>\n",
       "      <th>ORKTemperature</th>\n",
       "      <th>ORKWindspeed</th>\n",
       "      <th>CO2Intensity</th>\n",
       "      <th>ActualWindProduction</th>\n",
       "      <th>SystemLoadEP2</th>\n",
       "      <th>SMPEP2</th>\n",
       "    </tr>\n",
       "  </thead>\n",
       "  <tbody>\n",
       "    <tr>\n",
       "      <th>0</th>\n",
       "      <td>961</td>\n",
       "      <td>12</td>\n",
       "      <td>0</td>\n",
       "      <td>1</td>\n",
       "      <td>44</td>\n",
       "      <td>1</td>\n",
       "      <td>11</td>\n",
       "      <td>2011</td>\n",
       "      <td>0</td>\n",
       "      <td>16208</td>\n",
       "      <td>13942</td>\n",
       "      <td>4931</td>\n",
       "      <td>28</td>\n",
       "      <td>52</td>\n",
       "      <td>22770</td>\n",
       "      <td>2226</td>\n",
       "      <td>13871</td>\n",
       "      <td>5965</td>\n",
       "    </tr>\n",
       "    <tr>\n",
       "      <th>1</th>\n",
       "      <td>962</td>\n",
       "      <td>12</td>\n",
       "      <td>0</td>\n",
       "      <td>1</td>\n",
       "      <td>44</td>\n",
       "      <td>1</td>\n",
       "      <td>11</td>\n",
       "      <td>2011</td>\n",
       "      <td>1</td>\n",
       "      <td>16366</td>\n",
       "      <td>12114</td>\n",
       "      <td>4931</td>\n",
       "      <td>28</td>\n",
       "      <td>4</td>\n",
       "      <td>22981</td>\n",
       "      <td>2183</td>\n",
       "      <td>12121</td>\n",
       "      <td>5956</td>\n",
       "    </tr>\n",
       "    <tr>\n",
       "      <th>2</th>\n",
       "      <td>963</td>\n",
       "      <td>12</td>\n",
       "      <td>0</td>\n",
       "      <td>1</td>\n",
       "      <td>44</td>\n",
       "      <td>1</td>\n",
       "      <td>11</td>\n",
       "      <td>2011</td>\n",
       "      <td>2</td>\n",
       "      <td>16529</td>\n",
       "      <td>10721</td>\n",
       "      <td>4915</td>\n",
       "      <td>27</td>\n",
       "      <td>4</td>\n",
       "      <td>22240</td>\n",
       "      <td>2177</td>\n",
       "      <td>10717</td>\n",
       "      <td>5956</td>\n",
       "    </tr>\n",
       "    <tr>\n",
       "      <th>3</th>\n",
       "      <td>964</td>\n",
       "      <td>12</td>\n",
       "      <td>0</td>\n",
       "      <td>1</td>\n",
       "      <td>44</td>\n",
       "      <td>1</td>\n",
       "      <td>11</td>\n",
       "      <td>2011</td>\n",
       "      <td>3</td>\n",
       "      <td>16706</td>\n",
       "      <td>9606</td>\n",
       "      <td>4812</td>\n",
       "      <td>28</td>\n",
       "      <td>52</td>\n",
       "      <td>22025</td>\n",
       "      <td>2179</td>\n",
       "      <td>9608</td>\n",
       "      <td>5881</td>\n",
       "    </tr>\n",
       "    <tr>\n",
       "      <th>4</th>\n",
       "      <td>965</td>\n",
       "      <td>12</td>\n",
       "      <td>0</td>\n",
       "      <td>1</td>\n",
       "      <td>44</td>\n",
       "      <td>1</td>\n",
       "      <td>11</td>\n",
       "      <td>2011</td>\n",
       "      <td>4</td>\n",
       "      <td>16898</td>\n",
       "      <td>8701</td>\n",
       "      <td>3552</td>\n",
       "      <td>28</td>\n",
       "      <td>4</td>\n",
       "      <td>21164</td>\n",
       "      <td>2215</td>\n",
       "      <td>8927</td>\n",
       "      <td>4542</td>\n",
       "    </tr>\n",
       "  </tbody>\n",
       "</table>\n",
       "</div>"
      ],
      "text/plain": [
       "   DateTime  Holiday  HolidayFlag  DayOfWeek  WeekOfYear  Day  Month  Year  \\\n",
       "0       961       12            0          1          44    1     11  2011   \n",
       "1       962       12            0          1          44    1     11  2011   \n",
       "2       963       12            0          1          44    1     11  2011   \n",
       "3       964       12            0          1          44    1     11  2011   \n",
       "4       965       12            0          1          44    1     11  2011   \n",
       "\n",
       "   PeriodOfDay  ForecastWindProduction  SystemLoadEA  SMPEA  ORKTemperature  \\\n",
       "0            0                   16208         13942   4931              28   \n",
       "1            1                   16366         12114   4931              28   \n",
       "2            2                   16529         10721   4915              27   \n",
       "3            3                   16706          9606   4812              28   \n",
       "4            4                   16898          8701   3552              28   \n",
       "\n",
       "   ORKWindspeed  CO2Intensity  ActualWindProduction  SystemLoadEP2  SMPEP2  \n",
       "0            52         22770                  2226          13871    5965  \n",
       "1             4         22981                  2183          12121    5956  \n",
       "2             4         22240                  2177          10717    5956  \n",
       "3            52         22025                  2179           9608    5881  \n",
       "4             4         21164                  2215           8927    4542  "
      ]
     },
     "execution_count": 22,
     "metadata": {},
     "output_type": "execute_result"
    }
   ],
   "source": [
    "def_tmp.head()"
   ]
  },
  {
   "cell_type": "code",
   "execution_count": 23,
   "metadata": {},
   "outputs": [
    {
     "name": "stderr",
     "output_type": "stream",
     "text": [
      "E:\\new\\new_one\\env\\lib\\site-packages\\seaborn\\distributions.py:2557: FutureWarning: `distplot` is a deprecated function and will be removed in a future version. Please adapt your code to use either `displot` (a figure-level function with similar flexibility) or `histplot` (an axes-level function for histograms).\n",
      "  warnings.warn(msg, FutureWarning)\n"
     ]
    },
    {
     "data": {
      "image/png": "[encoded data removed]",
      "text/plain": [
       "<Figure size 864x360 with 1 Axes>"
      ]
     },
     "metadata": {
      "needs_background": "light"
     },
     "output_type": "display_data"
    }
   ],
   "source": [
    "import seaborn as sns\n",
    "plt.figure(figsize = (12, 5))\n",
    "sns.distplot(def_tmp['Holiday'])\n",
    "plt.show()"
   ]
  },
  {
   "cell_type": "code",
   "execution_count": 24,
   "metadata": {},
   "outputs": [
    {
     "name": "stderr",
     "output_type": "stream",
     "text": [
      "E:\\new\\new_one\\env\\lib\\site-packages\\seaborn\\distributions.py:2557: FutureWarning: `distplot` is a deprecated function and will be removed in a future version. Please adapt your code to use either `displot` (a figure-level function with similar flexibility) or `histplot` (an axes-level function for histograms).\n",
      "  warnings.warn(msg, FutureWarning)\n"
     ]
    },
    {
     "data": {
      "image/png": "[encoded data removed]",
      "text/plain": [
       "<Figure size 864x360 with 1 Axes>"
      ]
     },
     "metadata": {
      "needs_background": "light"
     },
     "output_type": "display_data"
    }
   ],
   "source": [
    "plt.figure(figsize = (12, 5))\n",
    "sns.distplot(def_tmp['ForecastWindProduction'])\n",
    "plt.show()"
   ]
  },
  {
   "cell_type": "code",
   "execution_count": 25,
   "metadata": {},
   "outputs": [
    {
     "name": "stderr",
     "output_type": "stream",
     "text": [
      "E:\\new\\new_one\\env\\lib\\site-packages\\seaborn\\distributions.py:2557: FutureWarning: `distplot` is a deprecated function and will be removed in a future version. Please adapt your code to use either `displot` (a figure-level function with similar flexibility) or `histplot` (an axes-level function for histograms).\n",
      "  warnings.warn(msg, FutureWarning)\n"
     ]
    },
    {
     "data": {
      "image/png": "[encoded data removed]",
      "text/plain": [
       "<Figure size 864x360 with 1 Axes>"
      ]
     },
     "metadata": {
      "needs_background": "light"
     },
     "output_type": "display_data"
    }
   ],
   "source": [
    "plt.figure(figsize = (12, 5))\n",
    "sns.distplot(def_tmp['ActualWindProduction'])\n",
    "plt.show()"
   ]
  },
  {
   "cell_type": "code",
   "execution_count": 26,
   "metadata": {},
   "outputs": [
    {
     "data": {
      "text/plain": [
       "<matplotlib.collections.PathCollection at 0x274f4d88100>"
      ]
     },
     "execution_count": 26,
     "metadata": {},
     "output_type": "execute_result"
    },
    {
     "data": {
      "image/png": "[encoded data removed]",
      "text/plain": [
       "<Figure size 432x288 with 1 Axes>"
      ]
     },
     "metadata": {
      "needs_background": "light"
     },
     "output_type": "display_data"
    }
   ],
   "source": [
    "fig, ax = plt.subplots()\n",
    "ax.scatter(def_tmp['ActualWindProduction'], def_tmp['SMPEP2'])"
   ]
  },
  {
   "cell_type": "code",
   "execution_count": 27,
   "metadata": {
    "scrolled": true
   },
   "outputs": [
    {
     "data": {
      "image/png": "[encoded data removed]",
      "text/plain": [
       "<Figure size 720x432 with 1 Axes>"
      ]
     },
     "metadata": {
      "needs_background": "light"
     },
     "output_type": "display_data"
    }
   ],
   "source": [
    "a = def_tmp.groupby(\"Year\").sum()[\"SMPEP2\"]\n",
    "b = def_tmp[\"Year\"].value_counts().index\n",
    "plt.figure(figsize = (10,6))\n",
    "sns.barplot(x = b, y = a, color = \"blue\", ci = None)\n",
    "plt.title(\"Prices by years\", fontsize = 15)\n",
    "plt.tick_params(axis = \"both\", which = \"major\", labelsize = 12, direction = \"out\")\n",
    "plt.xlabel(\"Years\",fontsize = 12)\n",
    "plt.ylabel(\"Prices\", fontsize = 12)\n",
    "plt.show()"
   ]
  },
  {
   "cell_type": "code",
   "execution_count": 28,
   "metadata": {},
   "outputs": [
    {
     "data": {
      "image/png": "[encoded data removed]",
      "text/plain": [
       "<Figure size 720x432 with 1 Axes>"
      ]
     },
     "metadata": {
      "needs_background": "light"
     },
     "output_type": "display_data"
    }
   ],
   "source": [
    "a = def_tmp.groupby(\"Year\").mean()[\"ActualWindProduction\"]\n",
    "b = def_tmp[\"Year\"].value_counts().index\n",
    "plt.figure(figsize = (10,6))\n",
    "sns.barplot(x = b, y = a, color = \"blue\", ci = None)\n",
    "plt.title(\"productibility by years\", fontsize = 15)\n",
    "plt.tick_params(axis = \"both\", which = \"major\", labelsize = 12, direction = \"out\")\n",
    "plt.xlabel(\"Years\",fontsize = 12)\n",
    "plt.ylabel(\"ActualWindProduction\", fontsize = 12)\n",
    "plt.show()"
   ]
  },
  {
   "cell_type": "code",
   "execution_count": 29,
   "metadata": {},
   "outputs": [
    {
     "name": "stderr",
     "output_type": "stream",
     "text": [
      "E:\\new\\new_one\\env\\lib\\site-packages\\seaborn\\_decorators.py:36: FutureWarning: Pass the following variables as keyword args: x, y. From version 0.12, the only valid positional argument will be `data`, and passing other arguments without an explicit keyword will result in an error or misinterpretation.\n",
      "  warnings.warn(\n"
     ]
    },
    {
     "data": {
      "image/png": "[encoded data removed]",
      "text/plain": [
       "<Figure size 432x432 with 3 Axes>"
      ]
     },
     "metadata": {
      "needs_background": "light"
     },
     "output_type": "display_data"
    }
   ],
   "source": [
    "sns.jointplot('CO2Intensity','ActualWindProduction', data=def_tmp,\n",
    "              kind=\"kde\", fill=True, color='green', height=6);"
   ]
  },
  {
   "cell_type": "code",
   "execution_count": 30,
   "metadata": {},
   "outputs": [
    {
     "data": {
      "text/plain": [
       "<seaborn.axisgrid.JointGrid at 0x274f4a04400>"
      ]
     },
     "execution_count": 30,
     "metadata": {},
     "output_type": "execute_result"
    },
    {
     "data": {
      "image/png": "[encoded data removed]",
      "text/plain": [
       "<Figure size 432x432 with 3 Axes>"
      ]
     },
     "metadata": {
      "needs_background": "light"
     },
     "output_type": "display_data"
    }
   ],
   "source": [
    "g = sns.jointplot(data=def_tmp, x=\"CO2Intensity\", y=\"ORKTemperature\")\n",
    "g.plot_joint(sns.kdeplot, color=\"r\", zorder=0, levels=6)\n",
    "g.plot_marginals(sns.rugplot, color=\"r\", height=-.15, clip_on=False)"
   ]
  },
  {
   "cell_type": "code",
   "execution_count": 31,
   "metadata": {},
   "outputs": [
    {
     "name": "stderr",
     "output_type": "stream",
     "text": [
      "E:\\new\\new_one\\env\\lib\\site-packages\\seaborn\\_decorators.py:36: FutureWarning: Pass the following variables as keyword args: x, y. From version 0.12, the only valid positional argument will be `data`, and passing other arguments without an explicit keyword will result in an error or misinterpretation.\n",
      "  warnings.warn(\n"
     ]
    },
    {
     "data": {
      "image/png": "[encoded data removed]",
      "text/plain": [
       "<Figure size 432x432 with 3 Axes>"
      ]
     },
     "metadata": {
      "needs_background": "light"
     },
     "output_type": "display_data"
    }
   ],
   "source": [
    "sns.jointplot('CO2Intensity','ORKTemperature', data=def_tmp,\n",
    "              kind=\"kde\", fill=True,\n",
    "              color='green', height=6);"
   ]
  },
  {
   "cell_type": "code",
   "execution_count": 32,
   "metadata": {},
   "outputs": [],
   "source": [
    "#built a function to visulize and compare the data\n",
    "def plot_fourChart(df, feature1, feature2):\n",
    "    \"\"\"\n",
    "    plot a heatmap to compare the parameters with the actual productivity of energy\n",
    "    \"\"\"\n",
    "    sns.jointplot(df.loc[:,feature1], df.loc[:,feature2], data=df,\n",
    "              kind=\"kde\", fill=True,\n",
    "              color='blue', height=6)\n",
    "    pass"
   ]
  },
  {
   "cell_type": "code",
   "execution_count": 33,
   "metadata": {},
   "outputs": [
    {
     "name": "stderr",
     "output_type": "stream",
     "text": [
      "E:\\new\\new_one\\env\\lib\\site-packages\\seaborn\\_decorators.py:36: FutureWarning: Pass the following variables as keyword args: x, y. From version 0.12, the only valid positional argument will be `data`, and passing other arguments without an explicit keyword will result in an error or misinterpretation.\n",
      "  warnings.warn(\n"
     ]
    },
    {
     "data": {
      "image/png": "[encoded data removed]",
      "text/plain": [
       "<Figure size 432x432 with 3 Axes>"
      ]
     },
     "metadata": {
      "needs_background": "light"
     },
     "output_type": "display_data"
    }
   ],
   "source": [
    "plot_fourChart(def_tmp, 'ORKWindspeed', 'ActualWindProduction')"
   ]
  },
  {
   "cell_type": "markdown",
   "metadata": {},
   "source": [
    "the function work good.\n",
    "now let's try it in a four chart and give it a good visualisation"
   ]
  },
  {
   "cell_type": "code",
   "execution_count": 34,
   "metadata": {},
   "outputs": [
    {
     "name": "stderr",
     "output_type": "stream",
     "text": [
      "E:\\new\\new_one\\env\\lib\\site-packages\\seaborn\\_decorators.py:36: FutureWarning: Pass the following variables as keyword args: x, y. From version 0.12, the only valid positional argument will be `data`, and passing other arguments without an explicit keyword will result in an error or misinterpretation.\n",
      "  warnings.warn(\n"
     ]
    },
    {
     "data": {
      "image/png": "[encoded data removed]",
      "text/plain": [
       "<Figure size 432x432 with 3 Axes>"
      ]
     },
     "metadata": {
      "needs_background": "light"
     },
     "output_type": "display_data"
    }
   ],
   "source": [
    "sns.jointplot('ORKWindspeed','ActualWindProduction', data=def_tmp,\n",
    "              kind=\"kde\", fill=True,\n",
    "              color='blue', height=6);"
   ]
  },
  {
   "cell_type": "code",
   "execution_count": 35,
   "metadata": {},
   "outputs": [],
   "source": [
    "# split the data by date\n",
    "df11 = def_tmp[def_tmp.Year == 2011] #test data\n",
    "df12 = def_tmp[def_tmp.Year == 2012] #trainig data\n",
    "df13 = def_tmp[def_tmp.Year == 2013] #valid data\n",
    "len(df11), len(df12), len(df13)\n",
    "df11_tmp = df11.copy()\n",
    "df12_tmp = df12.copy()\n",
    "df13_tmp = df13.copy()"
   ]
  },
  {
   "cell_type": "code",
   "execution_count": 36,
   "metadata": {},
   "outputs": [
    {
     "data": {
      "text/plain": [
       "(2928, 17566, 17520)"
      ]
     },
     "execution_count": 36,
     "metadata": {},
     "output_type": "execute_result"
    }
   ],
   "source": [
    "len(df11), len(df12), len(df13)\n"
   ]
  },
  {
   "cell_type": "code",
   "execution_count": 37,
   "metadata": {},
   "outputs": [
    {
     "data": {
      "text/html": [
       "<div>\n",
       "<style scoped>\n",
       "    .dataframe tbody tr th:only-of-type {\n",
       "        vertical-align: middle;\n",
       "    }\n",
       "\n",
       "    .dataframe tbody tr th {\n",
       "        vertical-align: top;\n",
       "    }\n",
       "\n",
       "    .dataframe thead th {\n",
       "        text-align: right;\n",
       "    }\n",
       "</style>\n",
       "<table border=\"1\" class=\"dataframe\">\n",
       "  <thead>\n",
       "    <tr style=\"text-align: right;\">\n",
       "      <th></th>\n",
       "      <th>DateTime</th>\n",
       "      <th>Holiday</th>\n",
       "      <th>HolidayFlag</th>\n",
       "      <th>DayOfWeek</th>\n",
       "      <th>WeekOfYear</th>\n",
       "      <th>Day</th>\n",
       "      <th>Month</th>\n",
       "      <th>Year</th>\n",
       "      <th>PeriodOfDay</th>\n",
       "      <th>ForecastWindProduction</th>\n",
       "      <th>SystemLoadEA</th>\n",
       "      <th>SMPEA</th>\n",
       "      <th>ORKTemperature</th>\n",
       "      <th>ORKWindspeed</th>\n",
       "      <th>CO2Intensity</th>\n",
       "      <th>ActualWindProduction</th>\n",
       "      <th>SystemLoadEP2</th>\n",
       "      <th>SMPEP2</th>\n",
       "    </tr>\n",
       "  </thead>\n",
       "  <tbody>\n",
       "    <tr>\n",
       "      <th>20494</th>\n",
       "      <td>49</td>\n",
       "      <td>10</td>\n",
       "      <td>1</td>\n",
       "      <td>1</td>\n",
       "      <td>1</td>\n",
       "      <td>1</td>\n",
       "      <td>1</td>\n",
       "      <td>2013</td>\n",
       "      <td>0</td>\n",
       "      <td>29077</td>\n",
       "      <td>18320</td>\n",
       "      <td>4955</td>\n",
       "      <td>26</td>\n",
       "      <td>7</td>\n",
       "      <td>7759</td>\n",
       "      <td>2750</td>\n",
       "      <td>16485</td>\n",
       "      <td>5304</td>\n",
       "    </tr>\n",
       "    <tr>\n",
       "      <th>20495</th>\n",
       "      <td>50</td>\n",
       "      <td>10</td>\n",
       "      <td>1</td>\n",
       "      <td>1</td>\n",
       "      <td>1</td>\n",
       "      <td>1</td>\n",
       "      <td>1</td>\n",
       "      <td>2013</td>\n",
       "      <td>1</td>\n",
       "      <td>28912</td>\n",
       "      <td>16802</td>\n",
       "      <td>4922</td>\n",
       "      <td>18</td>\n",
       "      <td>7</td>\n",
       "      <td>7308</td>\n",
       "      <td>2723</td>\n",
       "      <td>15484</td>\n",
       "      <td>5374</td>\n",
       "    </tr>\n",
       "    <tr>\n",
       "      <th>20496</th>\n",
       "      <td>51</td>\n",
       "      <td>10</td>\n",
       "      <td>1</td>\n",
       "      <td>1</td>\n",
       "      <td>1</td>\n",
       "      <td>1</td>\n",
       "      <td>1</td>\n",
       "      <td>2013</td>\n",
       "      <td>2</td>\n",
       "      <td>28860</td>\n",
       "      <td>15402</td>\n",
       "      <td>4924</td>\n",
       "      <td>26</td>\n",
       "      <td>8</td>\n",
       "      <td>7826</td>\n",
       "      <td>2669</td>\n",
       "      <td>14418</td>\n",
       "      <td>5304</td>\n",
       "    </tr>\n",
       "    <tr>\n",
       "      <th>20497</th>\n",
       "      <td>52</td>\n",
       "      <td>10</td>\n",
       "      <td>1</td>\n",
       "      <td>1</td>\n",
       "      <td>1</td>\n",
       "      <td>1</td>\n",
       "      <td>1</td>\n",
       "      <td>2013</td>\n",
       "      <td>3</td>\n",
       "      <td>29054</td>\n",
       "      <td>14025</td>\n",
       "      <td>3782</td>\n",
       "      <td>26</td>\n",
       "      <td>10</td>\n",
       "      <td>8285</td>\n",
       "      <td>2640</td>\n",
       "      <td>13213</td>\n",
       "      <td>5304</td>\n",
       "    </tr>\n",
       "    <tr>\n",
       "      <th>20498</th>\n",
       "      <td>53</td>\n",
       "      <td>10</td>\n",
       "      <td>1</td>\n",
       "      <td>1</td>\n",
       "      <td>1</td>\n",
       "      <td>1</td>\n",
       "      <td>1</td>\n",
       "      <td>2013</td>\n",
       "      <td>4</td>\n",
       "      <td>29190</td>\n",
       "      <td>12634</td>\n",
       "      <td>3782</td>\n",
       "      <td>26</td>\n",
       "      <td>8</td>\n",
       "      <td>8512</td>\n",
       "      <td>2651</td>\n",
       "      <td>11814</td>\n",
       "      <td>5374</td>\n",
       "    </tr>\n",
       "  </tbody>\n",
       "</table>\n",
       "</div>"
      ],
      "text/plain": [
       "       DateTime  Holiday  HolidayFlag  DayOfWeek  WeekOfYear  Day  Month  \\\n",
       "20494        49       10            1          1           1    1      1   \n",
       "20495        50       10            1          1           1    1      1   \n",
       "20496        51       10            1          1           1    1      1   \n",
       "20497        52       10            1          1           1    1      1   \n",
       "20498        53       10            1          1           1    1      1   \n",
       "\n",
       "       Year  PeriodOfDay  ForecastWindProduction  SystemLoadEA  SMPEA  \\\n",
       "20494  2013            0                   29077         18320   4955   \n",
       "20495  2013            1                   28912         16802   4922   \n",
       "20496  2013            2                   28860         15402   4924   \n",
       "20497  2013            3                   29054         14025   3782   \n",
       "20498  2013            4                   29190         12634   3782   \n",
       "\n",
       "       ORKTemperature  ORKWindspeed  CO2Intensity  ActualWindProduction  \\\n",
       "20494              26             7          7759                  2750   \n",
       "20495              18             7          7308                  2723   \n",
       "20496              26             8          7826                  2669   \n",
       "20497              26            10          8285                  2640   \n",
       "20498              26             8          8512                  2651   \n",
       "\n",
       "       SystemLoadEP2  SMPEP2  \n",
       "20494          16485    5304  \n",
       "20495          15484    5374  \n",
       "20496          14418    5304  \n",
       "20497          13213    5304  \n",
       "20498          11814    5374  "
      ]
     },
     "execution_count": 37,
     "metadata": {},
     "output_type": "execute_result"
    }
   ],
   "source": [
    "df13.head()"
   ]
  },
  {
   "cell_type": "code",
   "execution_count": 38,
   "metadata": {},
   "outputs": [],
   "source": [
    "FirstPerdDay0 = df11[df11.PeriodOfDay == 0]"
   ]
  },
  {
   "cell_type": "code",
   "execution_count": 39,
   "metadata": {},
   "outputs": [
    {
     "data": {
      "text/html": [
       "<div>\n",
       "<style scoped>\n",
       "    .dataframe tbody tr th:only-of-type {\n",
       "        vertical-align: middle;\n",
       "    }\n",
       "\n",
       "    .dataframe tbody tr th {\n",
       "        vertical-align: top;\n",
       "    }\n",
       "\n",
       "    .dataframe thead th {\n",
       "        text-align: right;\n",
       "    }\n",
       "</style>\n",
       "<table border=\"1\" class=\"dataframe\">\n",
       "  <thead>\n",
       "    <tr style=\"text-align: right;\">\n",
       "      <th></th>\n",
       "      <th>DateTime</th>\n",
       "      <th>Holiday</th>\n",
       "      <th>HolidayFlag</th>\n",
       "      <th>DayOfWeek</th>\n",
       "      <th>WeekOfYear</th>\n",
       "      <th>Day</th>\n",
       "      <th>Month</th>\n",
       "      <th>Year</th>\n",
       "      <th>PeriodOfDay</th>\n",
       "      <th>ForecastWindProduction</th>\n",
       "      <th>SystemLoadEA</th>\n",
       "      <th>SMPEA</th>\n",
       "      <th>ORKTemperature</th>\n",
       "      <th>ORKWindspeed</th>\n",
       "      <th>CO2Intensity</th>\n",
       "      <th>ActualWindProduction</th>\n",
       "      <th>SystemLoadEP2</th>\n",
       "      <th>SMPEP2</th>\n",
       "    </tr>\n",
       "  </thead>\n",
       "  <tbody>\n",
       "    <tr>\n",
       "      <th>0</th>\n",
       "      <td>961</td>\n",
       "      <td>12</td>\n",
       "      <td>0</td>\n",
       "      <td>1</td>\n",
       "      <td>44</td>\n",
       "      <td>1</td>\n",
       "      <td>11</td>\n",
       "      <td>2011</td>\n",
       "      <td>0</td>\n",
       "      <td>16208</td>\n",
       "      <td>13942</td>\n",
       "      <td>4931</td>\n",
       "      <td>28</td>\n",
       "      <td>52</td>\n",
       "      <td>22770</td>\n",
       "      <td>2226</td>\n",
       "      <td>13871</td>\n",
       "      <td>5965</td>\n",
       "    </tr>\n",
       "    <tr>\n",
       "      <th>48</th>\n",
       "      <td>2209</td>\n",
       "      <td>12</td>\n",
       "      <td>0</td>\n",
       "      <td>2</td>\n",
       "      <td>44</td>\n",
       "      <td>2</td>\n",
       "      <td>11</td>\n",
       "      <td>2011</td>\n",
       "      <td>0</td>\n",
       "      <td>9132</td>\n",
       "      <td>15669</td>\n",
       "      <td>4451</td>\n",
       "      <td>10</td>\n",
       "      <td>32</td>\n",
       "      <td>6602</td>\n",
       "      <td>1855</td>\n",
       "      <td>11778</td>\n",
       "      <td>5681</td>\n",
       "    </tr>\n",
       "    <tr>\n",
       "      <th>96</th>\n",
       "      <td>3457</td>\n",
       "      <td>12</td>\n",
       "      <td>0</td>\n",
       "      <td>3</td>\n",
       "      <td>44</td>\n",
       "      <td>3</td>\n",
       "      <td>11</td>\n",
       "      <td>2011</td>\n",
       "      <td>0</td>\n",
       "      <td>7973</td>\n",
       "      <td>16160</td>\n",
       "      <td>5413</td>\n",
       "      <td>10</td>\n",
       "      <td>24</td>\n",
       "      <td>7310</td>\n",
       "      <td>1739</td>\n",
       "      <td>14582</td>\n",
       "      <td>5267</td>\n",
       "    </tr>\n",
       "    <tr>\n",
       "      <th>144</th>\n",
       "      <td>4705</td>\n",
       "      <td>12</td>\n",
       "      <td>0</td>\n",
       "      <td>4</td>\n",
       "      <td>44</td>\n",
       "      <td>4</td>\n",
       "      <td>11</td>\n",
       "      <td>2011</td>\n",
       "      <td>0</td>\n",
       "      <td>28249</td>\n",
       "      <td>16789</td>\n",
       "      <td>5238</td>\n",
       "      <td>30</td>\n",
       "      <td>34</td>\n",
       "      <td>23598</td>\n",
       "      <td>2006</td>\n",
       "      <td>16559</td>\n",
       "      <td>5066</td>\n",
       "    </tr>\n",
       "    <tr>\n",
       "      <th>192</th>\n",
       "      <td>5953</td>\n",
       "      <td>12</td>\n",
       "      <td>0</td>\n",
       "      <td>5</td>\n",
       "      <td>44</td>\n",
       "      <td>5</td>\n",
       "      <td>11</td>\n",
       "      <td>2011</td>\n",
       "      <td>0</td>\n",
       "      <td>26670</td>\n",
       "      <td>17900</td>\n",
       "      <td>4672</td>\n",
       "      <td>28</td>\n",
       "      <td>5</td>\n",
       "      <td>23178</td>\n",
       "      <td>2807</td>\n",
       "      <td>18523</td>\n",
       "      <td>5642</td>\n",
       "    </tr>\n",
       "    <tr>\n",
       "      <th>...</th>\n",
       "      <td>...</td>\n",
       "      <td>...</td>\n",
       "      <td>...</td>\n",
       "      <td>...</td>\n",
       "      <td>...</td>\n",
       "      <td>...</td>\n",
       "      <td>...</td>\n",
       "      <td>...</td>\n",
       "      <td>...</td>\n",
       "      <td>...</td>\n",
       "      <td>...</td>\n",
       "      <td>...</td>\n",
       "      <td>...</td>\n",
       "      <td>...</td>\n",
       "      <td>...</td>\n",
       "      <td>...</td>\n",
       "      <td>...</td>\n",
       "      <td>...</td>\n",
       "    </tr>\n",
       "    <tr>\n",
       "      <th>2688</th>\n",
       "      <td>33551</td>\n",
       "      <td>12</td>\n",
       "      <td>0</td>\n",
       "      <td>1</td>\n",
       "      <td>52</td>\n",
       "      <td>27</td>\n",
       "      <td>12</td>\n",
       "      <td>2011</td>\n",
       "      <td>0</td>\n",
       "      <td>20864</td>\n",
       "      <td>20430</td>\n",
       "      <td>1936</td>\n",
       "      <td>31</td>\n",
       "      <td>17</td>\n",
       "      <td>7743</td>\n",
       "      <td>2509</td>\n",
       "      <td>15421</td>\n",
       "      <td>8647</td>\n",
       "    </tr>\n",
       "    <tr>\n",
       "      <th>2736</th>\n",
       "      <td>34799</td>\n",
       "      <td>12</td>\n",
       "      <td>0</td>\n",
       "      <td>2</td>\n",
       "      <td>52</td>\n",
       "      <td>28</td>\n",
       "      <td>12</td>\n",
       "      <td>2011</td>\n",
       "      <td>0</td>\n",
       "      <td>9413</td>\n",
       "      <td>20416</td>\n",
       "      <td>4620</td>\n",
       "      <td>29</td>\n",
       "      <td>14</td>\n",
       "      <td>5880</td>\n",
       "      <td>1677</td>\n",
       "      <td>14487</td>\n",
       "      <td>4939</td>\n",
       "    </tr>\n",
       "    <tr>\n",
       "      <th>2784</th>\n",
       "      <td>35999</td>\n",
       "      <td>12</td>\n",
       "      <td>0</td>\n",
       "      <td>3</td>\n",
       "      <td>52</td>\n",
       "      <td>29</td>\n",
       "      <td>12</td>\n",
       "      <td>2011</td>\n",
       "      <td>0</td>\n",
       "      <td>6946</td>\n",
       "      <td>21723</td>\n",
       "      <td>4728</td>\n",
       "      <td>26</td>\n",
       "      <td>13</td>\n",
       "      <td>5395</td>\n",
       "      <td>1773</td>\n",
       "      <td>14829</td>\n",
       "      <td>4939</td>\n",
       "    </tr>\n",
       "    <tr>\n",
       "      <th>2832</th>\n",
       "      <td>37151</td>\n",
       "      <td>12</td>\n",
       "      <td>0</td>\n",
       "      <td>4</td>\n",
       "      <td>52</td>\n",
       "      <td>30</td>\n",
       "      <td>12</td>\n",
       "      <td>2011</td>\n",
       "      <td>0</td>\n",
       "      <td>21702</td>\n",
       "      <td>20982</td>\n",
       "      <td>4456</td>\n",
       "      <td>31</td>\n",
       "      <td>10</td>\n",
       "      <td>7955</td>\n",
       "      <td>2758</td>\n",
       "      <td>16531</td>\n",
       "      <td>7656</td>\n",
       "    </tr>\n",
       "    <tr>\n",
       "      <th>2880</th>\n",
       "      <td>37871</td>\n",
       "      <td>11</td>\n",
       "      <td>1</td>\n",
       "      <td>5</td>\n",
       "      <td>52</td>\n",
       "      <td>31</td>\n",
       "      <td>12</td>\n",
       "      <td>2011</td>\n",
       "      <td>0</td>\n",
       "      <td>26259</td>\n",
       "      <td>16905</td>\n",
       "      <td>4400</td>\n",
       "      <td>8</td>\n",
       "      <td>13</td>\n",
       "      <td>6460</td>\n",
       "      <td>1529</td>\n",
       "      <td>15748</td>\n",
       "      <td>4923</td>\n",
       "    </tr>\n",
       "  </tbody>\n",
       "</table>\n",
       "<p>61 rows × 18 columns</p>\n",
       "</div>"
      ],
      "text/plain": [
       "      DateTime  Holiday  HolidayFlag  DayOfWeek  WeekOfYear  Day  Month  Year  \\\n",
       "0          961       12            0          1          44    1     11  2011   \n",
       "48        2209       12            0          2          44    2     11  2011   \n",
       "96        3457       12            0          3          44    3     11  2011   \n",
       "144       4705       12            0          4          44    4     11  2011   \n",
       "192       5953       12            0          5          44    5     11  2011   \n",
       "...        ...      ...          ...        ...         ...  ...    ...   ...   \n",
       "2688     33551       12            0          1          52   27     12  2011   \n",
       "2736     34799       12            0          2          52   28     12  2011   \n",
       "2784     35999       12            0          3          52   29     12  2011   \n",
       "2832     37151       12            0          4          52   30     12  2011   \n",
       "2880     37871       11            1          5          52   31     12  2011   \n",
       "\n",
       "      PeriodOfDay  ForecastWindProduction  SystemLoadEA  SMPEA  \\\n",
       "0               0                   16208         13942   4931   \n",
       "48              0                    9132         15669   4451   \n",
       "96              0                    7973         16160   5413   \n",
       "144             0                   28249         16789   5238   \n",
       "192             0                   26670         17900   4672   \n",
       "...           ...                     ...           ...    ...   \n",
       "2688            0                   20864         20430   1936   \n",
       "2736            0                    9413         20416   4620   \n",
       "2784            0                    6946         21723   4728   \n",
       "2832            0                   21702         20982   4456   \n",
       "2880            0                   26259         16905   4400   \n",
       "\n",
       "      ORKTemperature  ORKWindspeed  CO2Intensity  ActualWindProduction  \\\n",
       "0                 28            52         22770                  2226   \n",
       "48                10            32          6602                  1855   \n",
       "96                10            24          7310                  1739   \n",
       "144               30            34         23598                  2006   \n",
       "192               28             5         23178                  2807   \n",
       "...              ...           ...           ...                   ...   \n",
       "2688              31            17          7743                  2509   \n",
       "2736              29            14          5880                  1677   \n",
       "2784              26            13          5395                  1773   \n",
       "2832              31            10          7955                  2758   \n",
       "2880               8            13          6460                  1529   \n",
       "\n",
       "      SystemLoadEP2  SMPEP2  \n",
       "0             13871    5965  \n",
       "48            11778    5681  \n",
       "96            14582    5267  \n",
       "144           16559    5066  \n",
       "192           18523    5642  \n",
       "...             ...     ...  \n",
       "2688          15421    8647  \n",
       "2736          14487    4939  \n",
       "2784          14829    4939  \n",
       "2832          16531    7656  \n",
       "2880          15748    4923  \n",
       "\n",
       "[61 rows x 18 columns]"
      ]
     },
     "execution_count": 39,
     "metadata": {},
     "output_type": "execute_result"
    }
   ],
   "source": [
    "FirstPerdDay0"
   ]
  },
  {
   "cell_type": "code",
   "execution_count": 40,
   "metadata": {},
   "outputs": [
    {
     "name": "stderr",
     "output_type": "stream",
     "text": [
      "E:\\new\\new_one\\env\\lib\\site-packages\\seaborn\\distributions.py:2557: FutureWarning: `distplot` is a deprecated function and will be removed in a future version. Please adapt your code to use either `displot` (a figure-level function with similar flexibility) or `histplot` (an axes-level function for histograms).\n",
      "  warnings.warn(msg, FutureWarning)\n"
     ]
    },
    {
     "data": {
      "image/png": "[encoded data removed]",
      "text/plain": [
       "<Figure size 864x360 with 1 Axes>"
      ]
     },
     "metadata": {
      "needs_background": "light"
     },
     "output_type": "display_data"
    }
   ],
   "source": [
    "plt.figure(figsize = (12, 5))\n",
    "sns.distplot(FirstPerdDay0['ActualWindProduction'])\n",
    "plt.show()"
   ]
  },
  {
   "cell_type": "code",
   "execution_count": 41,
   "metadata": {},
   "outputs": [
    {
     "data": {
      "text/html": [
       "<div>\n",
       "<style scoped>\n",
       "    .dataframe tbody tr th:only-of-type {\n",
       "        vertical-align: middle;\n",
       "    }\n",
       "\n",
       "    .dataframe tbody tr th {\n",
       "        vertical-align: top;\n",
       "    }\n",
       "\n",
       "    .dataframe thead th {\n",
       "        text-align: right;\n",
       "    }\n",
       "</style>\n",
       "<table border=\"1\" class=\"dataframe\">\n",
       "  <thead>\n",
       "    <tr style=\"text-align: right;\">\n",
       "      <th></th>\n",
       "      <th>DateTime</th>\n",
       "      <th>Holiday</th>\n",
       "      <th>HolidayFlag</th>\n",
       "      <th>DayOfWeek</th>\n",
       "      <th>WeekOfYear</th>\n",
       "      <th>Day</th>\n",
       "      <th>Month</th>\n",
       "      <th>Year</th>\n",
       "      <th>PeriodOfDay</th>\n",
       "      <th>ForecastWindProduction</th>\n",
       "      <th>SystemLoadEA</th>\n",
       "      <th>SMPEA</th>\n",
       "      <th>ORKTemperature</th>\n",
       "      <th>ORKWindspeed</th>\n",
       "      <th>CO2Intensity</th>\n",
       "      <th>ActualWindProduction</th>\n",
       "      <th>SystemLoadEP2</th>\n",
       "      <th>SMPEP2</th>\n",
       "    </tr>\n",
       "  </thead>\n",
       "  <tbody>\n",
       "    <tr>\n",
       "      <th>24</th>\n",
       "      <td>985</td>\n",
       "      <td>12</td>\n",
       "      <td>0</td>\n",
       "      <td>1</td>\n",
       "      <td>44</td>\n",
       "      <td>1</td>\n",
       "      <td>11</td>\n",
       "      <td>2011</td>\n",
       "      <td>24</td>\n",
       "      <td>25037</td>\n",
       "      <td>32088</td>\n",
       "      <td>6229</td>\n",
       "      <td>9</td>\n",
       "      <td>13</td>\n",
       "      <td>17285</td>\n",
       "      <td>2401</td>\n",
       "      <td>29527</td>\n",
       "      <td>6337</td>\n",
       "    </tr>\n",
       "    <tr>\n",
       "      <th>72</th>\n",
       "      <td>2233</td>\n",
       "      <td>12</td>\n",
       "      <td>0</td>\n",
       "      <td>2</td>\n",
       "      <td>44</td>\n",
       "      <td>2</td>\n",
       "      <td>11</td>\n",
       "      <td>2011</td>\n",
       "      <td>24</td>\n",
       "      <td>8689</td>\n",
       "      <td>31945</td>\n",
       "      <td>6753</td>\n",
       "      <td>11</td>\n",
       "      <td>33</td>\n",
       "      <td>12623</td>\n",
       "      <td>1821</td>\n",
       "      <td>29446</td>\n",
       "      <td>6267</td>\n",
       "    </tr>\n",
       "    <tr>\n",
       "      <th>120</th>\n",
       "      <td>3481</td>\n",
       "      <td>12</td>\n",
       "      <td>0</td>\n",
       "      <td>3</td>\n",
       "      <td>44</td>\n",
       "      <td>3</td>\n",
       "      <td>11</td>\n",
       "      <td>2011</td>\n",
       "      <td>24</td>\n",
       "      <td>25417</td>\n",
       "      <td>31208</td>\n",
       "      <td>5332</td>\n",
       "      <td>11</td>\n",
       "      <td>14</td>\n",
       "      <td>15212</td>\n",
       "      <td>2725</td>\n",
       "      <td>30514</td>\n",
       "      <td>5066</td>\n",
       "    </tr>\n",
       "    <tr>\n",
       "      <th>168</th>\n",
       "      <td>4729</td>\n",
       "      <td>12</td>\n",
       "      <td>0</td>\n",
       "      <td>4</td>\n",
       "      <td>44</td>\n",
       "      <td>4</td>\n",
       "      <td>11</td>\n",
       "      <td>2011</td>\n",
       "      <td>24</td>\n",
       "      <td>8773</td>\n",
       "      <td>31123</td>\n",
       "      <td>5085</td>\n",
       "      <td>9</td>\n",
       "      <td>52</td>\n",
       "      <td>21755</td>\n",
       "      <td>2017</td>\n",
       "      <td>32119</td>\n",
       "      <td>5173</td>\n",
       "    </tr>\n",
       "    <tr>\n",
       "      <th>216</th>\n",
       "      <td>5977</td>\n",
       "      <td>12</td>\n",
       "      <td>0</td>\n",
       "      <td>5</td>\n",
       "      <td>44</td>\n",
       "      <td>5</td>\n",
       "      <td>11</td>\n",
       "      <td>2011</td>\n",
       "      <td>24</td>\n",
       "      <td>12259</td>\n",
       "      <td>25837</td>\n",
       "      <td>4834</td>\n",
       "      <td>31</td>\n",
       "      <td>10</td>\n",
       "      <td>21029</td>\n",
       "      <td>2485</td>\n",
       "      <td>27939</td>\n",
       "      <td>6369</td>\n",
       "    </tr>\n",
       "    <tr>\n",
       "      <th>...</th>\n",
       "      <td>...</td>\n",
       "      <td>...</td>\n",
       "      <td>...</td>\n",
       "      <td>...</td>\n",
       "      <td>...</td>\n",
       "      <td>...</td>\n",
       "      <td>...</td>\n",
       "      <td>...</td>\n",
       "      <td>...</td>\n",
       "      <td>...</td>\n",
       "      <td>...</td>\n",
       "      <td>...</td>\n",
       "      <td>...</td>\n",
       "      <td>...</td>\n",
       "      <td>...</td>\n",
       "      <td>...</td>\n",
       "      <td>...</td>\n",
       "      <td>...</td>\n",
       "    </tr>\n",
       "    <tr>\n",
       "      <th>2712</th>\n",
       "      <td>33575</td>\n",
       "      <td>12</td>\n",
       "      <td>0</td>\n",
       "      <td>1</td>\n",
       "      <td>52</td>\n",
       "      <td>27</td>\n",
       "      <td>12</td>\n",
       "      <td>2011</td>\n",
       "      <td>24</td>\n",
       "      <td>7357</td>\n",
       "      <td>21956</td>\n",
       "      <td>6199</td>\n",
       "      <td>31</td>\n",
       "      <td>17</td>\n",
       "      <td>6633</td>\n",
       "      <td>1496</td>\n",
       "      <td>17685</td>\n",
       "      <td>6753</td>\n",
       "    </tr>\n",
       "    <tr>\n",
       "      <th>2760</th>\n",
       "      <td>34823</td>\n",
       "      <td>12</td>\n",
       "      <td>0</td>\n",
       "      <td>2</td>\n",
       "      <td>52</td>\n",
       "      <td>28</td>\n",
       "      <td>12</td>\n",
       "      <td>2011</td>\n",
       "      <td>24</td>\n",
       "      <td>9254</td>\n",
       "      <td>28029</td>\n",
       "      <td>4456</td>\n",
       "      <td>27</td>\n",
       "      <td>16</td>\n",
       "      <td>6309</td>\n",
       "      <td>1660</td>\n",
       "      <td>23285</td>\n",
       "      <td>5591</td>\n",
       "    </tr>\n",
       "    <tr>\n",
       "      <th>2808</th>\n",
       "      <td>36023</td>\n",
       "      <td>12</td>\n",
       "      <td>0</td>\n",
       "      <td>3</td>\n",
       "      <td>52</td>\n",
       "      <td>29</td>\n",
       "      <td>12</td>\n",
       "      <td>2011</td>\n",
       "      <td>24</td>\n",
       "      <td>7420</td>\n",
       "      <td>27927</td>\n",
       "      <td>4456</td>\n",
       "      <td>31</td>\n",
       "      <td>26</td>\n",
       "      <td>6098</td>\n",
       "      <td>1916</td>\n",
       "      <td>23247</td>\n",
       "      <td>4980</td>\n",
       "    </tr>\n",
       "    <tr>\n",
       "      <th>2856</th>\n",
       "      <td>37175</td>\n",
       "      <td>12</td>\n",
       "      <td>0</td>\n",
       "      <td>4</td>\n",
       "      <td>52</td>\n",
       "      <td>30</td>\n",
       "      <td>12</td>\n",
       "      <td>2011</td>\n",
       "      <td>24</td>\n",
       "      <td>6266</td>\n",
       "      <td>28553</td>\n",
       "      <td>5377</td>\n",
       "      <td>9</td>\n",
       "      <td>13</td>\n",
       "      <td>10740</td>\n",
       "      <td>2834</td>\n",
       "      <td>27881</td>\n",
       "      <td>5854</td>\n",
       "    </tr>\n",
       "    <tr>\n",
       "      <th>2904</th>\n",
       "      <td>37895</td>\n",
       "      <td>11</td>\n",
       "      <td>1</td>\n",
       "      <td>5</td>\n",
       "      <td>52</td>\n",
       "      <td>31</td>\n",
       "      <td>12</td>\n",
       "      <td>2011</td>\n",
       "      <td>24</td>\n",
       "      <td>5752</td>\n",
       "      <td>21899</td>\n",
       "      <td>5134</td>\n",
       "      <td>9</td>\n",
       "      <td>17</td>\n",
       "      <td>9417</td>\n",
       "      <td>1626</td>\n",
       "      <td>22977</td>\n",
       "      <td>5135</td>\n",
       "    </tr>\n",
       "  </tbody>\n",
       "</table>\n",
       "<p>61 rows × 18 columns</p>\n",
       "</div>"
      ],
      "text/plain": [
       "      DateTime  Holiday  HolidayFlag  DayOfWeek  WeekOfYear  Day  Month  Year  \\\n",
       "24         985       12            0          1          44    1     11  2011   \n",
       "72        2233       12            0          2          44    2     11  2011   \n",
       "120       3481       12            0          3          44    3     11  2011   \n",
       "168       4729       12            0          4          44    4     11  2011   \n",
       "216       5977       12            0          5          44    5     11  2011   \n",
       "...        ...      ...          ...        ...         ...  ...    ...   ...   \n",
       "2712     33575       12            0          1          52   27     12  2011   \n",
       "2760     34823       12            0          2          52   28     12  2011   \n",
       "2808     36023       12            0          3          52   29     12  2011   \n",
       "2856     37175       12            0          4          52   30     12  2011   \n",
       "2904     37895       11            1          5          52   31     12  2011   \n",
       "\n",
       "      PeriodOfDay  ForecastWindProduction  SystemLoadEA  SMPEA  \\\n",
       "24             24                   25037         32088   6229   \n",
       "72             24                    8689         31945   6753   \n",
       "120            24                   25417         31208   5332   \n",
       "168            24                    8773         31123   5085   \n",
       "216            24                   12259         25837   4834   \n",
       "...           ...                     ...           ...    ...   \n",
       "2712           24                    7357         21956   6199   \n",
       "2760           24                    9254         28029   4456   \n",
       "2808           24                    7420         27927   4456   \n",
       "2856           24                    6266         28553   5377   \n",
       "2904           24                    5752         21899   5134   \n",
       "\n",
       "      ORKTemperature  ORKWindspeed  CO2Intensity  ActualWindProduction  \\\n",
       "24                 9            13         17285                  2401   \n",
       "72                11            33         12623                  1821   \n",
       "120               11            14         15212                  2725   \n",
       "168                9            52         21755                  2017   \n",
       "216               31            10         21029                  2485   \n",
       "...              ...           ...           ...                   ...   \n",
       "2712              31            17          6633                  1496   \n",
       "2760              27            16          6309                  1660   \n",
       "2808              31            26          6098                  1916   \n",
       "2856               9            13         10740                  2834   \n",
       "2904               9            17          9417                  1626   \n",
       "\n",
       "      SystemLoadEP2  SMPEP2  \n",
       "24            29527    6337  \n",
       "72            29446    6267  \n",
       "120           30514    5066  \n",
       "168           32119    5173  \n",
       "216           27939    6369  \n",
       "...             ...     ...  \n",
       "2712          17685    6753  \n",
       "2760          23285    5591  \n",
       "2808          23247    4980  \n",
       "2856          27881    5854  \n",
       "2904          22977    5135  \n",
       "\n",
       "[61 rows x 18 columns]"
      ]
     },
     "execution_count": 41,
     "metadata": {},
     "output_type": "execute_result"
    }
   ],
   "source": [
    "# let's try the midlle periode in the day\n",
    "FirstPerdDay24 = df11[df11.PeriodOfDay == 24]\n",
    "FirstPerdDay24"
   ]
  },
  {
   "cell_type": "code",
   "execution_count": 42,
   "metadata": {},
   "outputs": [
    {
     "name": "stderr",
     "output_type": "stream",
     "text": [
      "E:\\new\\new_one\\env\\lib\\site-packages\\seaborn\\distributions.py:2557: FutureWarning: `distplot` is a deprecated function and will be removed in a future version. Please adapt your code to use either `displot` (a figure-level function with similar flexibility) or `histplot` (an axes-level function for histograms).\n",
      "  warnings.warn(msg, FutureWarning)\n"
     ]
    },
    {
     "data": {
      "image/png": "[encoded data removed]",
      "text/plain": [
       "<Figure size 864x360 with 1 Axes>"
      ]
     },
     "metadata": {
      "needs_background": "light"
     },
     "output_type": "display_data"
    }
   ],
   "source": [
    "plt.figure(figsize = (12, 5))\n",
    "sns.distplot(FirstPerdDay0['ActualWindProduction'])\n",
    "plt.show()"
   ]
  },
  {
   "cell_type": "markdown",
   "metadata": {},
   "source": [
    "Now let's try to compare the forcasted and the actual data in **2011**\n",
    "wer're gonna need four plot to visualizethe diffrent."
   ]
  },
  {
   "cell_type": "code",
   "execution_count": 43,
   "metadata": {},
   "outputs": [
    {
     "data": {
      "text/html": [
       "<div>\n",
       "<style scoped>\n",
       "    .dataframe tbody tr th:only-of-type {\n",
       "        vertical-align: middle;\n",
       "    }\n",
       "\n",
       "    .dataframe tbody tr th {\n",
       "        vertical-align: top;\n",
       "    }\n",
       "\n",
       "    .dataframe thead th {\n",
       "        text-align: right;\n",
       "    }\n",
       "</style>\n",
       "<table border=\"1\" class=\"dataframe\">\n",
       "  <thead>\n",
       "    <tr style=\"text-align: right;\">\n",
       "      <th></th>\n",
       "      <th>ForecastWindProduction</th>\n",
       "      <th>ActualWindProduction</th>\n",
       "    </tr>\n",
       "  </thead>\n",
       "  <tbody>\n",
       "    <tr>\n",
       "      <th>0</th>\n",
       "      <td>16208</td>\n",
       "      <td>2226</td>\n",
       "    </tr>\n",
       "    <tr>\n",
       "      <th>1</th>\n",
       "      <td>16366</td>\n",
       "      <td>2183</td>\n",
       "    </tr>\n",
       "    <tr>\n",
       "      <th>2</th>\n",
       "      <td>16529</td>\n",
       "      <td>2177</td>\n",
       "    </tr>\n",
       "    <tr>\n",
       "      <th>3</th>\n",
       "      <td>16706</td>\n",
       "      <td>2179</td>\n",
       "    </tr>\n",
       "    <tr>\n",
       "      <th>4</th>\n",
       "      <td>16898</td>\n",
       "      <td>2215</td>\n",
       "    </tr>\n",
       "    <tr>\n",
       "      <th>...</th>\n",
       "      <td>...</td>\n",
       "      <td>...</td>\n",
       "    </tr>\n",
       "    <tr>\n",
       "      <th>2923</th>\n",
       "      <td>7692</td>\n",
       "      <td>1652</td>\n",
       "    </tr>\n",
       "    <tr>\n",
       "      <th>2924</th>\n",
       "      <td>7713</td>\n",
       "      <td>1728</td>\n",
       "    </tr>\n",
       "    <tr>\n",
       "      <th>2925</th>\n",
       "      <td>7603</td>\n",
       "      <td>1771</td>\n",
       "    </tr>\n",
       "    <tr>\n",
       "      <th>2926</th>\n",
       "      <td>7179</td>\n",
       "      <td>1768</td>\n",
       "    </tr>\n",
       "    <tr>\n",
       "      <th>2927</th>\n",
       "      <td>7229</td>\n",
       "      <td>1789</td>\n",
       "    </tr>\n",
       "  </tbody>\n",
       "</table>\n",
       "<p>2928 rows × 2 columns</p>\n",
       "</div>"
      ],
      "text/plain": [
       "      ForecastWindProduction  ActualWindProduction\n",
       "0                      16208                  2226\n",
       "1                      16366                  2183\n",
       "2                      16529                  2177\n",
       "3                      16706                  2179\n",
       "4                      16898                  2215\n",
       "...                      ...                   ...\n",
       "2923                    7692                  1652\n",
       "2924                    7713                  1728\n",
       "2925                    7603                  1771\n",
       "2926                    7179                  1768\n",
       "2927                    7229                  1789\n",
       "\n",
       "[2928 rows x 2 columns]"
      ]
     },
     "execution_count": 43,
     "metadata": {},
     "output_type": "execute_result"
    }
   ],
   "source": [
    "#Wind Production\n",
    "col1= ['ForecastWindProduction', 'ActualWindProduction']\n",
    "df11_tmp1 = df11[col1]\n",
    "df11_tmp1"
   ]
  },
  {
   "cell_type": "code",
   "execution_count": 44,
   "metadata": {
    "scrolled": true
   },
   "outputs": [
    {
     "data": {
      "text/html": [
       "<div>\n",
       "<style scoped>\n",
       "    .dataframe tbody tr th:only-of-type {\n",
       "        vertical-align: middle;\n",
       "    }\n",
       "\n",
       "    .dataframe tbody tr th {\n",
       "        vertical-align: top;\n",
       "    }\n",
       "\n",
       "    .dataframe thead th {\n",
       "        text-align: right;\n",
       "    }\n",
       "</style>\n",
       "<table border=\"1\" class=\"dataframe\">\n",
       "  <thead>\n",
       "    <tr style=\"text-align: right;\">\n",
       "      <th></th>\n",
       "      <th>SystemLoadEA</th>\n",
       "      <th>SystemLoadEP2</th>\n",
       "    </tr>\n",
       "  </thead>\n",
       "  <tbody>\n",
       "    <tr>\n",
       "      <th>0</th>\n",
       "      <td>13942</td>\n",
       "      <td>13871</td>\n",
       "    </tr>\n",
       "    <tr>\n",
       "      <th>1</th>\n",
       "      <td>12114</td>\n",
       "      <td>12121</td>\n",
       "    </tr>\n",
       "    <tr>\n",
       "      <th>2</th>\n",
       "      <td>10721</td>\n",
       "      <td>10717</td>\n",
       "    </tr>\n",
       "    <tr>\n",
       "      <th>3</th>\n",
       "      <td>9606</td>\n",
       "      <td>9608</td>\n",
       "    </tr>\n",
       "    <tr>\n",
       "      <th>4</th>\n",
       "      <td>8701</td>\n",
       "      <td>8927</td>\n",
       "    </tr>\n",
       "    <tr>\n",
       "      <th>...</th>\n",
       "      <td>...</td>\n",
       "      <td>...</td>\n",
       "    </tr>\n",
       "    <tr>\n",
       "      <th>2923</th>\n",
       "      <td>21514</td>\n",
       "      <td>18185</td>\n",
       "    </tr>\n",
       "    <tr>\n",
       "      <th>2924</th>\n",
       "      <td>20518</td>\n",
       "      <td>16790</td>\n",
       "    </tr>\n",
       "    <tr>\n",
       "      <th>2925</th>\n",
       "      <td>19831</td>\n",
       "      <td>16264</td>\n",
       "    </tr>\n",
       "    <tr>\n",
       "      <th>2926</th>\n",
       "      <td>20341</td>\n",
       "      <td>17107</td>\n",
       "    </tr>\n",
       "    <tr>\n",
       "      <th>2927</th>\n",
       "      <td>20670</td>\n",
       "      <td>16879</td>\n",
       "    </tr>\n",
       "  </tbody>\n",
       "</table>\n",
       "<p>2928 rows × 2 columns</p>\n",
       "</div>"
      ],
      "text/plain": [
       "      SystemLoadEA  SystemLoadEP2\n",
       "0            13942          13871\n",
       "1            12114          12121\n",
       "2            10721          10717\n",
       "3             9606           9608\n",
       "4             8701           8927\n",
       "...            ...            ...\n",
       "2923         21514          18185\n",
       "2924         20518          16790\n",
       "2925         19831          16264\n",
       "2926         20341          17107\n",
       "2927         20670          16879\n",
       "\n",
       "[2928 rows x 2 columns]"
      ]
     },
     "execution_count": 44,
     "metadata": {},
     "output_type": "execute_result"
    }
   ],
   "source": [
    "# the  national system load\n",
    "col2  = ['SystemLoadEA', 'SystemLoadEP2']\n",
    "df11_tmp2 = df11[col2]\n",
    "df11_tmp2"
   ]
  },
  {
   "cell_type": "code",
   "execution_count": 45,
   "metadata": {},
   "outputs": [
    {
     "data": {
      "text/html": [
       "<div>\n",
       "<style scoped>\n",
       "    .dataframe tbody tr th:only-of-type {\n",
       "        vertical-align: middle;\n",
       "    }\n",
       "\n",
       "    .dataframe tbody tr th {\n",
       "        vertical-align: top;\n",
       "    }\n",
       "\n",
       "    .dataframe thead th {\n",
       "        text-align: right;\n",
       "    }\n",
       "</style>\n",
       "<table border=\"1\" class=\"dataframe\">\n",
       "  <thead>\n",
       "    <tr style=\"text-align: right;\">\n",
       "      <th></th>\n",
       "      <th>SMPEA</th>\n",
       "      <th>SMPEP2</th>\n",
       "    </tr>\n",
       "  </thead>\n",
       "  <tbody>\n",
       "    <tr>\n",
       "      <th>0</th>\n",
       "      <td>4931</td>\n",
       "      <td>5965</td>\n",
       "    </tr>\n",
       "    <tr>\n",
       "      <th>1</th>\n",
       "      <td>4931</td>\n",
       "      <td>5956</td>\n",
       "    </tr>\n",
       "    <tr>\n",
       "      <th>2</th>\n",
       "      <td>4915</td>\n",
       "      <td>5956</td>\n",
       "    </tr>\n",
       "    <tr>\n",
       "      <th>3</th>\n",
       "      <td>4812</td>\n",
       "      <td>5881</td>\n",
       "    </tr>\n",
       "    <tr>\n",
       "      <th>4</th>\n",
       "      <td>3552</td>\n",
       "      <td>4542</td>\n",
       "    </tr>\n",
       "    <tr>\n",
       "      <th>...</th>\n",
       "      <td>...</td>\n",
       "      <td>...</td>\n",
       "    </tr>\n",
       "    <tr>\n",
       "      <th>2923</th>\n",
       "      <td>5887</td>\n",
       "      <td>5369</td>\n",
       "    </tr>\n",
       "    <tr>\n",
       "      <th>2924</th>\n",
       "      <td>5887</td>\n",
       "      <td>5092</td>\n",
       "    </tr>\n",
       "    <tr>\n",
       "      <th>2925</th>\n",
       "      <td>5887</td>\n",
       "      <td>5092</td>\n",
       "    </tr>\n",
       "    <tr>\n",
       "      <th>2926</th>\n",
       "      <td>5887</td>\n",
       "      <td>5092</td>\n",
       "    </tr>\n",
       "    <tr>\n",
       "      <th>2927</th>\n",
       "      <td>5887</td>\n",
       "      <td>5092</td>\n",
       "    </tr>\n",
       "  </tbody>\n",
       "</table>\n",
       "<p>2928 rows × 2 columns</p>\n",
       "</div>"
      ],
      "text/plain": [
       "      SMPEA  SMPEP2\n",
       "0      4931    5965\n",
       "1      4931    5956\n",
       "2      4915    5956\n",
       "3      4812    5881\n",
       "4      3552    4542\n",
       "...     ...     ...\n",
       "2923   5887    5369\n",
       "2924   5887    5092\n",
       "2925   5887    5092\n",
       "2926   5887    5092\n",
       "2927   5887    5092\n",
       "\n",
       "[2928 rows x 2 columns]"
      ]
     },
     "execution_count": 45,
     "metadata": {},
     "output_type": "execute_result"
    }
   ],
   "source": [
    "#The price\n",
    "col3  = ['SMPEA', 'SMPEP2']\n",
    "df11_tmp3 = df11[col3]\n",
    "df11_tmp3"
   ]
  },
  {
   "cell_type": "code",
   "execution_count": 46,
   "metadata": {},
   "outputs": [
    {
     "data": {
      "image/png": "[encoded data removed]",
      "text/plain": [
       "<Figure size 432x288 with 1 Axes>"
      ]
     },
     "metadata": {
      "needs_background": "light"
     },
     "output_type": "display_data"
    }
   ],
   "source": [
    "df11_tmp1[:50].plot.bar();"
   ]
  },
  {
   "cell_type": "code",
   "execution_count": 47,
   "metadata": {},
   "outputs": [
    {
     "data": {
      "image/png": "[encoded data removed]",
      "text/plain": [
       "<Figure size 1080x576 with 4 Axes>"
      ]
     },
     "metadata": {
      "needs_background": "light"
     },
     "output_type": "display_data"
    }
   ],
   "source": [
    "fig, ax = plt.subplots(nrows=2, ncols=2, figsize=(15, 8))\n",
    "\n",
    "# Index to plot data\n",
    "ax[0, 0].plot(df11_tmp1); #wind production\n",
    "ax[0, 1].plot(df11_tmp2); # the  national system load\n",
    "ax[1, 0].plot(df11_tmp3); # the price"
   ]
  },
  {
   "cell_type": "markdown",
   "metadata": {},
   "source": [
    "we can clearly say that the forcasted wind production is far beyond the reel mesured, in constrat with that the price and the national sys prediction is close than the real mesured"
   ]
  },
  {
   "cell_type": "markdown",
   "metadata": {},
   "source": [
    "**split the data into train, validation and test sets**"
   ]
  },
  {
   "cell_type": "code",
   "execution_count": 48,
   "metadata": {},
   "outputs": [],
   "source": [
    "df_train = df12\n",
    "df_val = df13\n",
    "df_test = df11.drop('SMPEP2', axis=1)"
   ]
  },
  {
   "cell_type": "code",
   "execution_count": 49,
   "metadata": {},
   "outputs": [],
   "source": [
    "# Split data into X & y\n",
    "X_train, y_train = df_train.drop(\"SMPEP2\", axis=1), df_train.SMPEP2\n",
    "X_valid, y_valid = df_val.drop(\"SMPEP2\", axis=1), df_val.SMPEP2"
   ]
  },
  {
   "cell_type": "code",
   "execution_count": 50,
   "metadata": {},
   "outputs": [
    {
     "data": {
      "text/plain": [
       "((17566, 17), (17566,), (17520, 17), (17520,))"
      ]
     },
     "execution_count": 50,
     "metadata": {},
     "output_type": "execute_result"
    }
   ],
   "source": [
    "X_train.shape, y_train.shape, X_valid.shape, y_valid.shape"
   ]
  },
  {
   "cell_type": "code",
   "execution_count": 51,
   "metadata": {},
   "outputs": [
    {
     "data": {
      "text/plain": [
       "((17566, 18), (17520, 18), (2928, 17))"
      ]
     },
     "execution_count": 51,
     "metadata": {},
     "output_type": "execute_result"
    }
   ],
   "source": [
    "df_train.shape, df_val.shape, df_test.shape"
   ]
  },
  {
   "cell_type": "code",
   "execution_count": 52,
   "metadata": {},
   "outputs": [
    {
     "data": {
      "text/html": [
       "<div>\n",
       "<style scoped>\n",
       "    .dataframe tbody tr th:only-of-type {\n",
       "        vertical-align: middle;\n",
       "    }\n",
       "\n",
       "    .dataframe tbody tr th {\n",
       "        vertical-align: top;\n",
       "    }\n",
       "\n",
       "    .dataframe thead th {\n",
       "        text-align: right;\n",
       "    }\n",
       "</style>\n",
       "<table border=\"1\" class=\"dataframe\">\n",
       "  <thead>\n",
       "    <tr style=\"text-align: right;\">\n",
       "      <th></th>\n",
       "      <th>DateTime</th>\n",
       "      <th>Holiday</th>\n",
       "      <th>HolidayFlag</th>\n",
       "      <th>DayOfWeek</th>\n",
       "      <th>WeekOfYear</th>\n",
       "      <th>Day</th>\n",
       "      <th>Month</th>\n",
       "      <th>Year</th>\n",
       "      <th>PeriodOfDay</th>\n",
       "      <th>ForecastWindProduction</th>\n",
       "      <th>SystemLoadEA</th>\n",
       "      <th>SMPEA</th>\n",
       "      <th>ORKTemperature</th>\n",
       "      <th>ORKWindspeed</th>\n",
       "      <th>CO2Intensity</th>\n",
       "      <th>ActualWindProduction</th>\n",
       "      <th>SystemLoadEP2</th>\n",
       "    </tr>\n",
       "  </thead>\n",
       "  <tbody>\n",
       "    <tr>\n",
       "      <th>0</th>\n",
       "      <td>961</td>\n",
       "      <td>12</td>\n",
       "      <td>0</td>\n",
       "      <td>1</td>\n",
       "      <td>44</td>\n",
       "      <td>1</td>\n",
       "      <td>11</td>\n",
       "      <td>2011</td>\n",
       "      <td>0</td>\n",
       "      <td>16208</td>\n",
       "      <td>13942</td>\n",
       "      <td>4931</td>\n",
       "      <td>28</td>\n",
       "      <td>52</td>\n",
       "      <td>22770</td>\n",
       "      <td>2226</td>\n",
       "      <td>13871</td>\n",
       "    </tr>\n",
       "    <tr>\n",
       "      <th>1</th>\n",
       "      <td>962</td>\n",
       "      <td>12</td>\n",
       "      <td>0</td>\n",
       "      <td>1</td>\n",
       "      <td>44</td>\n",
       "      <td>1</td>\n",
       "      <td>11</td>\n",
       "      <td>2011</td>\n",
       "      <td>1</td>\n",
       "      <td>16366</td>\n",
       "      <td>12114</td>\n",
       "      <td>4931</td>\n",
       "      <td>28</td>\n",
       "      <td>4</td>\n",
       "      <td>22981</td>\n",
       "      <td>2183</td>\n",
       "      <td>12121</td>\n",
       "    </tr>\n",
       "    <tr>\n",
       "      <th>2</th>\n",
       "      <td>963</td>\n",
       "      <td>12</td>\n",
       "      <td>0</td>\n",
       "      <td>1</td>\n",
       "      <td>44</td>\n",
       "      <td>1</td>\n",
       "      <td>11</td>\n",
       "      <td>2011</td>\n",
       "      <td>2</td>\n",
       "      <td>16529</td>\n",
       "      <td>10721</td>\n",
       "      <td>4915</td>\n",
       "      <td>27</td>\n",
       "      <td>4</td>\n",
       "      <td>22240</td>\n",
       "      <td>2177</td>\n",
       "      <td>10717</td>\n",
       "    </tr>\n",
       "    <tr>\n",
       "      <th>3</th>\n",
       "      <td>964</td>\n",
       "      <td>12</td>\n",
       "      <td>0</td>\n",
       "      <td>1</td>\n",
       "      <td>44</td>\n",
       "      <td>1</td>\n",
       "      <td>11</td>\n",
       "      <td>2011</td>\n",
       "      <td>3</td>\n",
       "      <td>16706</td>\n",
       "      <td>9606</td>\n",
       "      <td>4812</td>\n",
       "      <td>28</td>\n",
       "      <td>52</td>\n",
       "      <td>22025</td>\n",
       "      <td>2179</td>\n",
       "      <td>9608</td>\n",
       "    </tr>\n",
       "    <tr>\n",
       "      <th>4</th>\n",
       "      <td>965</td>\n",
       "      <td>12</td>\n",
       "      <td>0</td>\n",
       "      <td>1</td>\n",
       "      <td>44</td>\n",
       "      <td>1</td>\n",
       "      <td>11</td>\n",
       "      <td>2011</td>\n",
       "      <td>4</td>\n",
       "      <td>16898</td>\n",
       "      <td>8701</td>\n",
       "      <td>3552</td>\n",
       "      <td>28</td>\n",
       "      <td>4</td>\n",
       "      <td>21164</td>\n",
       "      <td>2215</td>\n",
       "      <td>8927</td>\n",
       "    </tr>\n",
       "  </tbody>\n",
       "</table>\n",
       "</div>"
      ],
      "text/plain": [
       "   DateTime  Holiday  HolidayFlag  DayOfWeek  WeekOfYear  Day  Month  Year  \\\n",
       "0       961       12            0          1          44    1     11  2011   \n",
       "1       962       12            0          1          44    1     11  2011   \n",
       "2       963       12            0          1          44    1     11  2011   \n",
       "3       964       12            0          1          44    1     11  2011   \n",
       "4       965       12            0          1          44    1     11  2011   \n",
       "\n",
       "   PeriodOfDay  ForecastWindProduction  SystemLoadEA  SMPEA  ORKTemperature  \\\n",
       "0            0                   16208         13942   4931              28   \n",
       "1            1                   16366         12114   4931              28   \n",
       "2            2                   16529         10721   4915              27   \n",
       "3            3                   16706          9606   4812              28   \n",
       "4            4                   16898          8701   3552              28   \n",
       "\n",
       "   ORKWindspeed  CO2Intensity  ActualWindProduction  SystemLoadEP2  \n",
       "0            52         22770                  2226          13871  \n",
       "1             4         22981                  2183          12121  \n",
       "2             4         22240                  2177          10717  \n",
       "3            52         22025                  2179           9608  \n",
       "4             4         21164                  2215           8927  "
      ]
     },
     "execution_count": 52,
     "metadata": {},
     "output_type": "execute_result"
    }
   ],
   "source": [
    "df_test.head()"
   ]
  },
  {
   "cell_type": "markdown",
   "metadata": {},
   "source": [
    "Now all of our data is splited and numeric and there are no missing values, we should be able to build a machine learning model!"
   ]
  },
  {
   "cell_type": "markdown",
   "metadata": {},
   "source": [
    "## RandomForestRegressor"
   ]
  },
  {
   "cell_type": "markdown",
   "metadata": {},
   "source": [
    "we'll choose RandomForestRegressor model to predict"
   ]
  },
  {
   "cell_type": "code",
   "execution_count": 53,
   "metadata": {},
   "outputs": [],
   "source": [
    "from sklearn.ensemble import RandomForestRegressor\n",
    "model = RandomForestRegressor(n_jobs=-1)"
   ]
  },
  {
   "cell_type": "code",
   "execution_count": 54,
   "metadata": {},
   "outputs": [
    {
     "name": "stdout",
     "output_type": "stream",
     "text": [
      "Wall time: 15.6 s\n"
     ]
    },
    {
     "data": {
      "text/plain": [
       "RandomForestRegressor(n_jobs=-1)"
      ]
     },
     "execution_count": 54,
     "metadata": {},
     "output_type": "execute_result"
    }
   ],
   "source": [
    "%%time\n",
    "model.fit(X_train ,y_train)"
   ]
  },
  {
   "cell_type": "code",
   "execution_count": 55,
   "metadata": {},
   "outputs": [],
   "source": [
    "#create evaluation function\n",
    "from sklearn.metrics import mean_squared_log_error, mean_absolute_error\n",
    "\n",
    "def rmsle(y_test, y_preds):\n",
    "    return np.sqrt(mean_squared_log_error(y_test, y_preds))\n",
    "\n",
    "#create function to evaluate our model\n",
    "def show_scores(model):\n",
    "    train_preds = model.predict(X_train)\n",
    "    val_preds = model.predict(X_valid)\n",
    "    scores = {'Training MAE': mean_absolute_error(y_train, train_preds),\n",
    "             'Valid MAE': mean_absolute_error(y_valid, val_preds),\n",
    "             'Training RMSLE': rmsle(y_train, train_preds),\n",
    "             'Valid RMSLE': rmsle(y_valid, val_preds),\n",
    "             'Trainig R^2': model.score(X_train, y_train),\n",
    "             'valid R^2': model.score(X_valid, y_valid)}\n",
    "    return scores"
   ]
  },
  {
   "cell_type": "code",
   "execution_count": 56,
   "metadata": {},
   "outputs": [
    {
     "data": {
      "text/plain": [
       "{'Training MAE': 179.78881760218604,\n",
       " 'Valid MAE': 2143.9196130136984,\n",
       " 'Training RMSLE': 0.07814825562476034,\n",
       " 'Valid RMSLE': 1.2295254478820532,\n",
       " 'Trainig R^2': 0.9541545622472833,\n",
       " 'valid R^2': 0.004888942163965626}"
      ]
     },
     "execution_count": 56,
     "metadata": {},
     "output_type": "execute_result"
    }
   ],
   "source": [
    "show_scores(model)"
   ]
  },
  {
   "cell_type": "markdown",
   "metadata": {},
   "source": [
    "## Hyperparameter tuning with RandomizedSearchCV"
   ]
  },
  {
   "cell_type": "code",
   "execution_count": 57,
   "metadata": {},
   "outputs": [
    {
     "name": "stdout",
     "output_type": "stream",
     "text": [
      "Fitting 5 folds for each of 20 candidates, totalling 100 fits\n"
     ]
    },
    {
     "name": "stderr",
     "output_type": "stream",
     "text": [
      "[Parallel(n_jobs=1)]: Using backend SequentialBackend with 1 concurrent workers.\n",
      "[Parallel(n_jobs=1)]: Done 100 out of 100 | elapsed:  3.7min finished\n"
     ]
    },
    {
     "name": "stdout",
     "output_type": "stream",
     "text": [
      "Wall time: 3min 43s\n"
     ]
    },
    {
     "data": {
      "text/plain": [
       "RandomizedSearchCV(cv=5, estimator=RandomForestRegressor(), n_iter=20,\n",
       "                   param_distributions={'max_depth': [None, 3, 5, 10],\n",
       "                                        'max_features': [0.5, 1, 'sqrt',\n",
       "                                                         'auto'],\n",
       "                                        'max_samples': [10000],\n",
       "                                        'min_samples_leaf': array([ 1,  3,  5,  7,  9, 11, 13, 15, 17, 19]),\n",
       "                                        'min_samples_split': array([ 2,  4,  6,  8, 10, 12, 14, 16, 18]),\n",
       "                                        'n_estimators': array([10, 20, 30, 40, 50, 60, 70, 80, 90])},\n",
       "                   verbose=True)"
      ]
     },
     "execution_count": 57,
     "metadata": {},
     "output_type": "execute_result"
    }
   ],
   "source": [
    "%%time\n",
    "from sklearn.model_selection import RandomizedSearchCV\n",
    "\n",
    "# Different RandomForestClassifier hyperparameters\n",
    "rf_grid = {\"n_estimators\": np.arange(10, 100, 10),\n",
    "           \"max_depth\": [None, 3, 5, 10],\n",
    "           \"min_samples_split\": np.arange(2, 20, 2),\n",
    "           \"min_samples_leaf\": np.arange(1, 20, 2),\n",
    "           \"max_features\": [0.5, 1, \"sqrt\", \"auto\"],\n",
    "           \"max_samples\": [10000]}\n",
    "\n",
    "rs_model = RandomizedSearchCV(RandomForestRegressor(),\n",
    "                              param_distributions=rf_grid,\n",
    "                              n_iter=20,\n",
    "                              cv=5,\n",
    "                              verbose=True)\n",
    "\n",
    "rs_model.fit(X_train, y_train)"
   ]
  },
  {
   "cell_type": "code",
   "execution_count": 58,
   "metadata": {},
   "outputs": [
    {
     "data": {
      "text/plain": [
       "{'n_estimators': 20,\n",
       " 'min_samples_split': 8,\n",
       " 'min_samples_leaf': 9,\n",
       " 'max_samples': 10000,\n",
       " 'max_features': 'auto',\n",
       " 'max_depth': 5}"
      ]
     },
     "execution_count": 58,
     "metadata": {},
     "output_type": "execute_result"
    }
   ],
   "source": [
    "# Find the best parameters from the RandomizedSearch \n",
    "rs_model.best_params_"
   ]
  },
  {
   "cell_type": "code",
   "execution_count": 59,
   "metadata": {},
   "outputs": [
    {
     "data": {
      "text/plain": [
       "{'Training MAE': 903.5845312344578,\n",
       " 'Valid MAE': 2089.2772909981,\n",
       " 'Training RMSLE': 0.2459056787375493,\n",
       " 'Valid RMSLE': 1.2250839364936132,\n",
       " 'Trainig R^2': 0.3285142295522019,\n",
       " 'valid R^2': 0.03709872907703249}"
      ]
     },
     "execution_count": 59,
     "metadata": {},
     "output_type": "execute_result"
    }
   ],
   "source": [
    "show_scores(rs_model)"
   ]
  },
  {
   "cell_type": "markdown",
   "metadata": {},
   "source": [
    "## training model with best params"
   ]
  },
  {
   "cell_type": "code",
   "execution_count": 60,
   "metadata": {},
   "outputs": [
    {
     "name": "stdout",
     "output_type": "stream",
     "text": [
      "Wall time: 1.7 s\n"
     ]
    },
    {
     "data": {
      "text/plain": [
       "RandomForestRegressor(max_features='sqrt', min_samples_leaf=7,\n",
       "                      min_samples_split=14, n_estimators=50, n_jobs=-1)"
      ]
     },
     "execution_count": 60,
     "metadata": {},
     "output_type": "execute_result"
    }
   ],
   "source": [
    "%%time\n",
    "# Most ideal hyperparameters\n",
    "ideal_model = RandomForestRegressor(n_estimators=50,\n",
    "                                    min_samples_leaf=7,\n",
    "                                    min_samples_split=14,\n",
    "                                    max_features='sqrt',\n",
    "                                    n_jobs=-1,\n",
    "                                    max_samples=None)\n",
    "ideal_model.fit(X_train, y_train)"
   ]
  },
  {
   "cell_type": "code",
   "execution_count": 61,
   "metadata": {},
   "outputs": [
    {
     "data": {
      "text/plain": [
       "{'Training MAE': 476.0185969013854,\n",
       " 'Valid MAE': 1977.782306423381,\n",
       " 'Training RMSLE': 0.16586653220110611,\n",
       " 'Valid RMSLE': 1.1773599043513845,\n",
       " 'Trainig R^2': 0.7481770744265426,\n",
       " 'valid R^2': 0.17539187102825815}"
      ]
     },
     "execution_count": 61,
     "metadata": {},
     "output_type": "execute_result"
    }
   ],
   "source": [
    "show_scores(ideal_model)"
   ]
  },
  {
   "cell_type": "markdown",
   "metadata": {},
   "source": [
    "## Make prediction\n",
    "let's make prediction on test dat wich is the data in 2011 and compare it with the true data"
   ]
  },
  {
   "cell_type": "code",
   "execution_count": 62,
   "metadata": {},
   "outputs": [
    {
     "data": {
      "text/plain": [
       "(2928, 17)"
      ]
     },
     "execution_count": 62,
     "metadata": {},
     "output_type": "execute_result"
    }
   ],
   "source": [
    "df_test.shape"
   ]
  },
  {
   "cell_type": "code",
   "execution_count": 84,
   "metadata": {},
   "outputs": [
    {
     "data": {
      "text/plain": [
       "array([5713.85752506, 5851.37530282, 5897.39350365, ..., 6016.02040332,\n",
       "       6092.02151483, 5971.53777997])"
      ]
     },
     "execution_count": 84,
     "metadata": {},
     "output_type": "execute_result"
    }
   ],
   "source": [
    "test_preds = ideal_model.predict(df_test)\n",
    "test_preds"
   ]
  },
  {
   "cell_type": "code",
   "execution_count": 64,
   "metadata": {},
   "outputs": [
    {
     "data": {
      "text/plain": [
       "(2928,)"
      ]
     },
     "execution_count": 64,
     "metadata": {},
     "output_type": "execute_result"
    }
   ],
   "source": [
    "test_preds.shape"
   ]
  },
  {
   "cell_type": "code",
   "execution_count": 65,
   "metadata": {},
   "outputs": [
    {
     "data": {
      "text/html": [
       "<div>\n",
       "<style scoped>\n",
       "    .dataframe tbody tr th:only-of-type {\n",
       "        vertical-align: middle;\n",
       "    }\n",
       "\n",
       "    .dataframe tbody tr th {\n",
       "        vertical-align: top;\n",
       "    }\n",
       "\n",
       "    .dataframe thead th {\n",
       "        text-align: right;\n",
       "    }\n",
       "</style>\n",
       "<table border=\"1\" class=\"dataframe\">\n",
       "  <thead>\n",
       "    <tr style=\"text-align: right;\">\n",
       "      <th></th>\n",
       "      <th>predicted Price</th>\n",
       "    </tr>\n",
       "  </thead>\n",
       "  <tbody>\n",
       "    <tr>\n",
       "      <th>0</th>\n",
       "      <td>5713.857525</td>\n",
       "    </tr>\n",
       "    <tr>\n",
       "      <th>1</th>\n",
       "      <td>5851.375303</td>\n",
       "    </tr>\n",
       "    <tr>\n",
       "      <th>2</th>\n",
       "      <td>5897.393504</td>\n",
       "    </tr>\n",
       "    <tr>\n",
       "      <th>3</th>\n",
       "      <td>5899.677550</td>\n",
       "    </tr>\n",
       "    <tr>\n",
       "      <th>4</th>\n",
       "      <td>4848.047086</td>\n",
       "    </tr>\n",
       "    <tr>\n",
       "      <th>...</th>\n",
       "      <td>...</td>\n",
       "    </tr>\n",
       "    <tr>\n",
       "      <th>2923</th>\n",
       "      <td>6139.053128</td>\n",
       "    </tr>\n",
       "    <tr>\n",
       "      <th>2924</th>\n",
       "      <td>6060.440117</td>\n",
       "    </tr>\n",
       "    <tr>\n",
       "      <th>2925</th>\n",
       "      <td>6016.020403</td>\n",
       "    </tr>\n",
       "    <tr>\n",
       "      <th>2926</th>\n",
       "      <td>6092.021515</td>\n",
       "    </tr>\n",
       "    <tr>\n",
       "      <th>2927</th>\n",
       "      <td>5971.537780</td>\n",
       "    </tr>\n",
       "  </tbody>\n",
       "</table>\n",
       "<p>2928 rows × 1 columns</p>\n",
       "</div>"
      ],
      "text/plain": [
       "      predicted Price\n",
       "0         5713.857525\n",
       "1         5851.375303\n",
       "2         5897.393504\n",
       "3         5899.677550\n",
       "4         4848.047086\n",
       "...               ...\n",
       "2923      6139.053128\n",
       "2924      6060.440117\n",
       "2925      6016.020403\n",
       "2926      6092.021515\n",
       "2927      5971.537780\n",
       "\n",
       "[2928 rows x 1 columns]"
      ]
     },
     "execution_count": 65,
     "metadata": {},
     "output_type": "execute_result"
    }
   ],
   "source": [
    "# create a dataFrame for the predicted data\n",
    "df_preds = pd.DataFrame()\n",
    "df_preds[\"predicted Price\"] = test_preds\n",
    "df_preds"
   ]
  },
  {
   "cell_type": "code",
   "execution_count": 66,
   "metadata": {},
   "outputs": [
    {
     "data": {
      "text/plain": [
       "(2928, 1)"
      ]
     },
     "execution_count": 66,
     "metadata": {},
     "output_type": "execute_result"
    }
   ],
   "source": [
    "df_preds.shape"
   ]
  },
  {
   "cell_type": "code",
   "execution_count": 106,
   "metadata": {},
   "outputs": [
    {
     "data": {
      "text/plain": [
       "((2928, 2), (2928, 1))"
      ]
     },
     "execution_count": 106,
     "metadata": {},
     "output_type": "execute_result"
    }
   ],
   "source": [
    "#compare the real price and the predicted one\n",
    "PriceCol  = ['SMPEP2']\n",
    "Price = df11[PriceCol]\n",
    "frames = [Price, df_preds]\n",
    "result = pd.concat(frames, axis=1)\n",
    "result.shape, Price.shape"
   ]
  },
  {
   "cell_type": "code",
   "execution_count": 107,
   "metadata": {},
   "outputs": [
    {
     "data": {
      "image/png": "[encoded data removed]",
      "text/plain": [
       "<Figure size 432x288 with 1 Axes>"
      ]
     },
     "metadata": {
      "needs_background": "light"
     },
     "output_type": "display_data"
    }
   ],
   "source": [
    "result[:50].plot.bar();"
   ]
  },
  {
   "cell_type": "code",
   "execution_count": 108,
   "metadata": {},
   "outputs": [
    {
     "data": {
      "text/html": [
       "<div>\n",
       "<style scoped>\n",
       "    .dataframe tbody tr th:only-of-type {\n",
       "        vertical-align: middle;\n",
       "    }\n",
       "\n",
       "    .dataframe tbody tr th {\n",
       "        vertical-align: top;\n",
       "    }\n",
       "\n",
       "    .dataframe thead th {\n",
       "        text-align: right;\n",
       "    }\n",
       "</style>\n",
       "<table border=\"1\" class=\"dataframe\">\n",
       "  <thead>\n",
       "    <tr style=\"text-align: right;\">\n",
       "      <th></th>\n",
       "      <th>SMPEP2</th>\n",
       "      <th>predicted Price</th>\n",
       "    </tr>\n",
       "  </thead>\n",
       "  <tbody>\n",
       "    <tr>\n",
       "      <th>0</th>\n",
       "      <td>5965</td>\n",
       "      <td>5713.857525</td>\n",
       "    </tr>\n",
       "    <tr>\n",
       "      <th>1</th>\n",
       "      <td>5956</td>\n",
       "      <td>5851.375303</td>\n",
       "    </tr>\n",
       "    <tr>\n",
       "      <th>2</th>\n",
       "      <td>5956</td>\n",
       "      <td>5897.393504</td>\n",
       "    </tr>\n",
       "    <tr>\n",
       "      <th>3</th>\n",
       "      <td>5881</td>\n",
       "      <td>5899.677550</td>\n",
       "    </tr>\n",
       "    <tr>\n",
       "      <th>4</th>\n",
       "      <td>4542</td>\n",
       "      <td>4848.047086</td>\n",
       "    </tr>\n",
       "    <tr>\n",
       "      <th>...</th>\n",
       "      <td>...</td>\n",
       "      <td>...</td>\n",
       "    </tr>\n",
       "    <tr>\n",
       "      <th>2923</th>\n",
       "      <td>5369</td>\n",
       "      <td>6139.053128</td>\n",
       "    </tr>\n",
       "    <tr>\n",
       "      <th>2924</th>\n",
       "      <td>5092</td>\n",
       "      <td>6060.440117</td>\n",
       "    </tr>\n",
       "    <tr>\n",
       "      <th>2925</th>\n",
       "      <td>5092</td>\n",
       "      <td>6016.020403</td>\n",
       "    </tr>\n",
       "    <tr>\n",
       "      <th>2926</th>\n",
       "      <td>5092</td>\n",
       "      <td>6092.021515</td>\n",
       "    </tr>\n",
       "    <tr>\n",
       "      <th>2927</th>\n",
       "      <td>5092</td>\n",
       "      <td>5971.537780</td>\n",
       "    </tr>\n",
       "  </tbody>\n",
       "</table>\n",
       "<p>2928 rows × 2 columns</p>\n",
       "</div>"
      ],
      "text/plain": [
       "      SMPEP2  predicted Price\n",
       "0       5965      5713.857525\n",
       "1       5956      5851.375303\n",
       "2       5956      5897.393504\n",
       "3       5881      5899.677550\n",
       "4       4542      4848.047086\n",
       "...      ...              ...\n",
       "2923    5369      6139.053128\n",
       "2924    5092      6060.440117\n",
       "2925    5092      6016.020403\n",
       "2926    5092      6092.021515\n",
       "2927    5092      5971.537780\n",
       "\n",
       "[2928 rows x 2 columns]"
      ]
     },
     "execution_count": 108,
     "metadata": {},
     "output_type": "execute_result"
    }
   ],
   "source": [
    "result"
   ]
  },
  {
   "cell_type": "code",
   "execution_count": 109,
   "metadata": {},
   "outputs": [
    {
     "data": {
      "text/plain": [
       "0.8794794975722582"
      ]
     },
     "execution_count": 109,
     "metadata": {},
     "output_type": "execute_result"
    }
   ],
   "source": [
    "(4931/5606.725357)"
   ]
  },
  {
   "cell_type": "code",
   "execution_count": 111,
   "metadata": {},
   "outputs": [],
   "source": [
    "rate = result['SMPEP2']/result['predicted Price']"
   ]
  },
  {
   "cell_type": "code",
   "execution_count": 112,
   "metadata": {
    "scrolled": false
   },
   "outputs": [
    {
     "name": "stderr",
     "output_type": "stream",
     "text": [
      "E:\\new\\new_one\\env\\lib\\site-packages\\seaborn\\distributions.py:2557: FutureWarning: `distplot` is a deprecated function and will be removed in a future version. Please adapt your code to use either `displot` (a figure-level function with similar flexibility) or `histplot` (an axes-level function for histograms).\n",
      "  warnings.warn(msg, FutureWarning)\n"
     ]
    },
    {
     "data": {
      "image/png": "[encoded data removed]",
      "text/plain": [
       "<Figure size 864x360 with 1 Axes>"
      ]
     },
     "metadata": {
      "needs_background": "light"
     },
     "output_type": "display_data"
    }
   ],
   "source": [
    "plt.figure(figsize = (12, 5))\n",
    "sns.distplot(rate)\n",
    "plt.show()"
   ]
  },
  {
   "cell_type": "code",
   "execution_count": 80,
   "metadata": {},
   "outputs": [
    {
     "data": {
      "text/plain": [
       "2928"
      ]
     },
     "execution_count": 80,
     "metadata": {},
     "output_type": "execute_result"
    }
   ],
   "source": [
    "len(Price)"
   ]
  },
  {
   "cell_type": "markdown",
   "metadata": {},
   "source": [
    "1 mean the perfect predict\n",
    "the most predicted percentage is 90% "
   ]
  },
  {
   "cell_type": "code",
   "execution_count": 113,
   "metadata": {},
   "outputs": [
    {
     "data": {
      "text/plain": [
       "array([0.08147731, 0.00153952, 0.00125949, 0.03940757, 0.08553438,\n",
       "       0.04751183, 0.05184898, 0.        , 0.06798779, 0.04243302,\n",
       "       0.09172742, 0.21847556, 0.0265429 , 0.02192239, 0.05525885,\n",
       "       0.04095563, 0.12611735])"
      ]
     },
     "execution_count": 113,
     "metadata": {},
     "output_type": "execute_result"
    }
   ],
   "source": [
    "# define the important features\n",
    "ideal_model.feature_importances_"
   ]
  },
  {
   "cell_type": "code",
   "execution_count": 114,
   "metadata": {},
   "outputs": [],
   "source": [
    "import seaborn as sns\n",
    "\n",
    "# Helper function for plotting feature importance\n",
    "def plot_features(columns, importances, n=100):\n",
    "    df = (pd.DataFrame({\"features\": columns,\n",
    "                        \"feature_importance\": importances})\n",
    "          .sort_values(\"feature_importance\", ascending=False)\n",
    "          .reset_index(drop=True))\n",
    "    \n",
    "    sns.barplot(x=\"feature_importance\",\n",
    "                y=\"features\",\n",
    "                data=df[:n],\n",
    "                orient=\"h\")"
   ]
  },
  {
   "cell_type": "code",
   "execution_count": 115,
   "metadata": {},
   "outputs": [
    {
     "data": {
      "image/png": "[encoded data removed]",
      "text/plain": [
       "<Figure size 432x288 with 1 Axes>"
      ]
     },
     "metadata": {
      "needs_background": "light"
     },
     "output_type": "display_data"
    }
   ],
   "source": [
    "plot_features(X_train.columns, ideal_model.feature_importances_)"
   ]
  },
  {
   "cell_type": "markdown",
   "metadata": {},
   "source": [
    "## RidgeRegressor"
   ]
  },
  {
   "cell_type": "code",
   "execution_count": 116,
   "metadata": {},
   "outputs": [],
   "source": [
    "from sklearn.linear_model import Ridge"
   ]
  },
  {
   "cell_type": "code",
   "execution_count": 117,
   "metadata": {},
   "outputs": [
    {
     "data": {
      "text/plain": [
       "Ridge(alpha=0.01)"
      ]
     },
     "execution_count": 117,
     "metadata": {},
     "output_type": "execute_result"
    }
   ],
   "source": [
    "model2 = Ridge(alpha=0.01)\n",
    "model2.fit(X_train, y_train)"
   ]
  },
  {
   "cell_type": "code",
   "execution_count": 118,
   "metadata": {},
   "outputs": [
    {
     "data": {
      "text/plain": [
       "{'Training MAE': 1004.606532263912,\n",
       " 'Valid MAE': 1769.4838690961478,\n",
       " 'Training RMSLE': 0.26734283838386,\n",
       " 'Valid RMSLE': 1.0920299053195557,\n",
       " 'Trainig R^2': 0.19390773302962783,\n",
       " 'valid R^2': 0.37108371508824567}"
      ]
     },
     "execution_count": 118,
     "metadata": {},
     "output_type": "execute_result"
    }
   ],
   "source": [
    "show_scores(model2)"
   ]
  },
  {
   "cell_type": "code",
   "execution_count": 119,
   "metadata": {},
   "outputs": [],
   "source": [
    "preds2 = model2.predict(df_test)"
   ]
  },
  {
   "cell_type": "code",
   "execution_count": 120,
   "metadata": {},
   "outputs": [
    {
     "data": {
      "text/plain": [
       "(array([5699.20893218, 5769.96115212, 5739.86326288, ..., 6120.17116743,\n",
       "        6152.42009835, 5993.27255237]),\n",
       " (2928,))"
      ]
     },
     "execution_count": 120,
     "metadata": {},
     "output_type": "execute_result"
    }
   ],
   "source": [
    "preds2, preds2.shape"
   ]
  },
  {
   "cell_type": "code",
   "execution_count": 122,
   "metadata": {},
   "outputs": [
    {
     "data": {
      "text/html": [
       "<div>\n",
       "<style scoped>\n",
       "    .dataframe tbody tr th:only-of-type {\n",
       "        vertical-align: middle;\n",
       "    }\n",
       "\n",
       "    .dataframe tbody tr th {\n",
       "        vertical-align: top;\n",
       "    }\n",
       "\n",
       "    .dataframe thead th {\n",
       "        text-align: right;\n",
       "    }\n",
       "</style>\n",
       "<table border=\"1\" class=\"dataframe\">\n",
       "  <thead>\n",
       "    <tr style=\"text-align: right;\">\n",
       "      <th></th>\n",
       "      <th>predicted Price2</th>\n",
       "    </tr>\n",
       "  </thead>\n",
       "  <tbody>\n",
       "    <tr>\n",
       "      <th>0</th>\n",
       "      <td>5699.208932</td>\n",
       "    </tr>\n",
       "    <tr>\n",
       "      <th>1</th>\n",
       "      <td>5769.961152</td>\n",
       "    </tr>\n",
       "    <tr>\n",
       "      <th>2</th>\n",
       "      <td>5739.863263</td>\n",
       "    </tr>\n",
       "    <tr>\n",
       "      <th>3</th>\n",
       "      <td>5588.470822</td>\n",
       "    </tr>\n",
       "    <tr>\n",
       "      <th>4</th>\n",
       "      <td>5261.799292</td>\n",
       "    </tr>\n",
       "    <tr>\n",
       "      <th>...</th>\n",
       "      <td>...</td>\n",
       "    </tr>\n",
       "    <tr>\n",
       "      <th>2923</th>\n",
       "      <td>6147.694944</td>\n",
       "    </tr>\n",
       "    <tr>\n",
       "      <th>2924</th>\n",
       "      <td>6100.179608</td>\n",
       "    </tr>\n",
       "    <tr>\n",
       "      <th>2925</th>\n",
       "      <td>6120.171167</td>\n",
       "    </tr>\n",
       "    <tr>\n",
       "      <th>2926</th>\n",
       "      <td>6152.420098</td>\n",
       "    </tr>\n",
       "    <tr>\n",
       "      <th>2927</th>\n",
       "      <td>5993.272552</td>\n",
       "    </tr>\n",
       "  </tbody>\n",
       "</table>\n",
       "<p>2928 rows × 1 columns</p>\n",
       "</div>"
      ],
      "text/plain": [
       "      predicted Price2\n",
       "0          5699.208932\n",
       "1          5769.961152\n",
       "2          5739.863263\n",
       "3          5588.470822\n",
       "4          5261.799292\n",
       "...                ...\n",
       "2923       6147.694944\n",
       "2924       6100.179608\n",
       "2925       6120.171167\n",
       "2926       6152.420098\n",
       "2927       5993.272552\n",
       "\n",
       "[2928 rows x 1 columns]"
      ]
     },
     "execution_count": 122,
     "metadata": {},
     "output_type": "execute_result"
    }
   ],
   "source": [
    "# create a dataFrame for the predicted data\n",
    "df_preds2 = pd.DataFrame()\n",
    "df_preds2[\"predicted Price2\"] = preds2\n",
    "df_preds2"
   ]
  },
  {
   "cell_type": "code",
   "execution_count": 123,
   "metadata": {},
   "outputs": [
    {
     "data": {
      "text/html": [
       "<div>\n",
       "<style scoped>\n",
       "    .dataframe tbody tr th:only-of-type {\n",
       "        vertical-align: middle;\n",
       "    }\n",
       "\n",
       "    .dataframe tbody tr th {\n",
       "        vertical-align: top;\n",
       "    }\n",
       "\n",
       "    .dataframe thead th {\n",
       "        text-align: right;\n",
       "    }\n",
       "</style>\n",
       "<table border=\"1\" class=\"dataframe\">\n",
       "  <thead>\n",
       "    <tr style=\"text-align: right;\">\n",
       "      <th></th>\n",
       "      <th>SMPEP2</th>\n",
       "      <th>predicted Price2</th>\n",
       "    </tr>\n",
       "  </thead>\n",
       "  <tbody>\n",
       "    <tr>\n",
       "      <th>0</th>\n",
       "      <td>5965</td>\n",
       "      <td>5699.208932</td>\n",
       "    </tr>\n",
       "    <tr>\n",
       "      <th>1</th>\n",
       "      <td>5956</td>\n",
       "      <td>5769.961152</td>\n",
       "    </tr>\n",
       "    <tr>\n",
       "      <th>2</th>\n",
       "      <td>5956</td>\n",
       "      <td>5739.863263</td>\n",
       "    </tr>\n",
       "    <tr>\n",
       "      <th>3</th>\n",
       "      <td>5881</td>\n",
       "      <td>5588.470822</td>\n",
       "    </tr>\n",
       "    <tr>\n",
       "      <th>4</th>\n",
       "      <td>4542</td>\n",
       "      <td>5261.799292</td>\n",
       "    </tr>\n",
       "    <tr>\n",
       "      <th>...</th>\n",
       "      <td>...</td>\n",
       "      <td>...</td>\n",
       "    </tr>\n",
       "    <tr>\n",
       "      <th>2923</th>\n",
       "      <td>5369</td>\n",
       "      <td>6147.694944</td>\n",
       "    </tr>\n",
       "    <tr>\n",
       "      <th>2924</th>\n",
       "      <td>5092</td>\n",
       "      <td>6100.179608</td>\n",
       "    </tr>\n",
       "    <tr>\n",
       "      <th>2925</th>\n",
       "      <td>5092</td>\n",
       "      <td>6120.171167</td>\n",
       "    </tr>\n",
       "    <tr>\n",
       "      <th>2926</th>\n",
       "      <td>5092</td>\n",
       "      <td>6152.420098</td>\n",
       "    </tr>\n",
       "    <tr>\n",
       "      <th>2927</th>\n",
       "      <td>5092</td>\n",
       "      <td>5993.272552</td>\n",
       "    </tr>\n",
       "  </tbody>\n",
       "</table>\n",
       "<p>2928 rows × 2 columns</p>\n",
       "</div>"
      ],
      "text/plain": [
       "      SMPEP2  predicted Price2\n",
       "0       5965       5699.208932\n",
       "1       5956       5769.961152\n",
       "2       5956       5739.863263\n",
       "3       5881       5588.470822\n",
       "4       4542       5261.799292\n",
       "...      ...               ...\n",
       "2923    5369       6147.694944\n",
       "2924    5092       6100.179608\n",
       "2925    5092       6120.171167\n",
       "2926    5092       6152.420098\n",
       "2927    5092       5993.272552\n",
       "\n",
       "[2928 rows x 2 columns]"
      ]
     },
     "execution_count": 123,
     "metadata": {},
     "output_type": "execute_result"
    }
   ],
   "source": [
    "#compare the real price and the predicted one\n",
    "PriceCol  = ['SMPEP2']\n",
    "Price = df11[PriceCol]\n",
    "frames2 = [Price, df_preds2]\n",
    "result = pd.concat(frames2, axis=1)\n",
    "result"
   ]
  },
  {
   "cell_type": "code",
   "execution_count": 124,
   "metadata": {},
   "outputs": [],
   "source": [
    "rate2 = result['SMPEP2']/result['predicted Price2']"
   ]
  },
  {
   "cell_type": "code",
   "execution_count": 125,
   "metadata": {},
   "outputs": [
    {
     "data": {
      "text/plain": [
       "0       1.046636\n",
       "1       1.032243\n",
       "2       1.037655\n",
       "3       1.052345\n",
       "4       0.863203\n",
       "          ...   \n",
       "2923    0.873335\n",
       "2924    0.834730\n",
       "2925    0.832003\n",
       "2926    0.827642\n",
       "2927    0.849619\n",
       "Length: 2928, dtype: float64"
      ]
     },
     "execution_count": 125,
     "metadata": {},
     "output_type": "execute_result"
    }
   ],
   "source": [
    "rate2"
   ]
  },
  {
   "cell_type": "code",
   "execution_count": 128,
   "metadata": {},
   "outputs": [
    {
     "name": "stderr",
     "output_type": "stream",
     "text": [
      "E:\\new\\new_one\\env\\lib\\site-packages\\seaborn\\distributions.py:2557: FutureWarning: `distplot` is a deprecated function and will be removed in a future version. Please adapt your code to use either `displot` (a figure-level function with similar flexibility) or `histplot` (an axes-level function for histograms).\n",
      "  warnings.warn(msg, FutureWarning)\n"
     ]
    },
    {
     "data": {
      "image/png": "[encoded data removed]",
      "text/plain": [
       "<Figure size 864x360 with 1 Axes>"
      ]
     },
     "metadata": {
      "needs_background": "light"
     },
     "output_type": "display_data"
    },
    {
     "data": {
      "image/png": "[encoded data removed]",
      "text/plain": [
       "<Figure size 360x360 with 1 Axes>"
      ]
     },
     "metadata": {
      "needs_background": "light"
     },
     "output_type": "display_data"
    }
   ],
   "source": [
    "plt.figure(figsize = (12, 5))\n",
    "sns.distplot(rate2)\n",
    "sns.displot(rate)\n",
    "plt.show()"
   ]
  },
  {
   "cell_type": "code",
   "execution_count": null,
   "metadata": {},
   "outputs": [],
   "source": []
  }
 ],
 "metadata": {
  "kernelspec": {
   "display_name": "Python 3",
   "language": "python",
   "name": "python3"
  },
  "language_info": {
   "codemirror_mode": {
    "name": "ipython",
    "version": 3
   },
   "file_extension": ".py",
   "mimetype": "text/x-python",
   "name": "python",
   "nbconvert_exporter": "python",
   "pygments_lexer": "ipython3",
   "version": "3.8.5"
  }
 },
 "nbformat": 4,
 "nbformat_minor": 4
}